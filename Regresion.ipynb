{
 "cells": [
  {
   "cell_type": "markdown",
   "id": "e5521ead",
   "metadata": {},
   "source": [
    "# Regresion"
   ]
  },
  {
   "cell_type": "code",
   "execution_count": 2,
   "id": "80f68f1b",
   "metadata": {},
   "outputs": [],
   "source": [
    "import matplotlib.pyplot as plt\n",
    "import numpy as np"
   ]
  },
  {
   "cell_type": "code",
   "execution_count": 7,
   "id": "df3198cc",
   "metadata": {},
   "outputs": [],
   "source": [
    "x0 = 0 # pos inicial\n",
    "t = np.arange(0, 100, 1) # tiempo\n",
    "v = 50 + np.random.normal(1, 1, len(t)) # km/h\n",
    "x = x0 + v*t + 0.5*np.random.normal(1, .2, len(t))*t**2"
   ]
  },
  {
   "cell_type": "code",
   "execution_count": 8,
   "id": "89089f5e",
   "metadata": {},
   "outputs": [
    {
     "data": {
      "text/plain": [
       "[<matplotlib.lines.Line2D at 0x7f03715c2250>]"
      ]
     },
     "execution_count": 8,
     "metadata": {},
     "output_type": "execute_result"
    },
    {
     "data": {
      "image/png": "[encoded data removed]",
      "text/plain": [
       "<Figure size 1080x360 with 1 Axes>"
      ]
     },
     "metadata": {
      "needs_background": "light"
     },
     "output_type": "display_data"
    }
   ],
   "source": [
    "plt.figure(figsize=(15,5))\n",
    "plt.plot(t, x, '.')"
   ]
  },
  {
   "cell_type": "markdown",
   "id": "b3419da2",
   "metadata": {},
   "source": [
    "### Re-inventando la rueda utilizando Regresion"
   ]
  },
  {
   "cell_type": "markdown",
   "id": "4668d72b",
   "metadata": {},
   "source": [
    "De antemano sabemos que la funcion que buscamos corresponde a la ecuacion del movimiento rectilíneo uniformemente acelerado, \n",
    "<br><br>\n",
    "<center>\n",
    "$\\begin{equation}\n",
    "x_1 = x_0 + vt + \\frac{1}{2}a t^2 \n",
    "\\end{equation}$\n",
    "<center>\n",
    "\n",
    "donde la posicion $x$ se encuentra en funcion del tiempo $t$, la velocidad $v$, y la aceleracion $a$.\n",
    "    \n",
    "    \n",
    "En un problema de regresion tratamos de describir una variable continua a partir de uno o mas predictores. De esta forma, asumimos que existe una relacion entre ambas variables y, que es posible parametrizar su comportamiento definiendo asi, una funcion que describa el proceso. "
   ]
  },
  {
   "cell_type": "markdown",
   "id": "371d20f5",
   "metadata": {},
   "source": [
    "Desde la observacion de los datos podemos imaginar infinitas funciones"
   ]
  },
  {
   "cell_type": "code",
   "execution_count": 9,
   "id": "3b2f544a",
   "metadata": {},
   "outputs": [
    {
     "data": {
      "text/plain": [
       "<matplotlib.legend.Legend at 0x7f037157b700>"
      ]
     },
     "execution_count": 9,
     "metadata": {},
     "output_type": "execute_result"
    },
    {
     "data": {
      "image/png": "[encoded data removed]",
      "text/plain": [
       "<Figure size 1080x360 with 1 Axes>"
      ]
     },
     "metadata": {
      "needs_background": "light"
     },
     "output_type": "display_data"
    }
   ],
   "source": [
    "plt.figure(figsize=(15,5))\n",
    "\n",
    "plt.scatter(t, x, s=5, label='Data', color='darkblue')\n",
    "\n",
    "x_f1 = np.ones(len(t)) * x.mean()\n",
    "plt.plot(t, x_f1, label='$f_1$', color='darkred')\n",
    "\n",
    "x_f2 = (x[-1]-x[0])/(t[-1]-t[0])*(t - t[0]) + t[-1]\n",
    "plt.plot(x_f2, label='$f_2$', color='darkgreen')\n",
    "\n",
    "\n",
    "plt.legend()"
   ]
  },
  {
   "cell_type": "markdown",
   "id": "213c7057",
   "metadata": {},
   "source": [
    "#### De que forma podemos encontrar la funcion que mejor se adapta a los datos?"
   ]
  },
  {
   "cell_type": "code",
   "execution_count": 10,
   "id": "f997a2c9",
   "metadata": {},
   "outputs": [],
   "source": [
    "from sklearn.metrics import mean_squared_error, r2_score"
   ]
  },
  {
   "cell_type": "markdown",
   "id": "ed533dbe",
   "metadata": {},
   "source": [
    "La primera funcion a considerar es el error medio cuadratico, la cual nos indica el error de nuestra funcion en terminos de la diferencia entre los valores esperados"
   ]
  },
  {
   "cell_type": "code",
   "execution_count": 11,
   "id": "b5f48f17",
   "metadata": {},
   "outputs": [
    {
     "name": "stdout",
     "output_type": "stream",
     "text": [
      "MSE F_1: 9063623.31\n",
      "MSE F_2: 676715.50\n"
     ]
    }
   ],
   "source": [
    "print('MSE F_1: {:.2f}\\nMSE F_2: {:.2f}'.format(mean_squared_error(x, x_f1, squared=True), \n",
    "                                                mean_squared_error(x, x_f2, squared=True)))"
   ]
  },
  {
   "cell_type": "markdown",
   "id": "1b07e204",
   "metadata": {},
   "source": [
    "La metrica $R^2$ nos dice que tan distinto de la media es nuestra funcion. De esta forma: "
   ]
  },
  {
   "cell_type": "code",
   "execution_count": 7,
   "id": "790ae73b",
   "metadata": {},
   "outputs": [
    {
     "name": "stdout",
     "output_type": "stream",
     "text": [
      "R2 F_1: 0.00\n",
      "R2 F_2: 0.86\n"
     ]
    }
   ],
   "source": [
    "print('R2 F_1: {:.2f}\\nR2 F_2: {:.2f}'.format(r2_score(x, x_f1), r2_score(x, x_f2)))"
   ]
  },
  {
   "cell_type": "markdown",
   "id": "9a738ebe",
   "metadata": {},
   "source": [
    "Ahora que tenemos una metrica de evaluacion entrenar ajustar algun modelo de aprendizaje automatico. Antes de ajustar nuestro modelo, debemos particionar el conjunto de datos:"
   ]
  },
  {
   "cell_type": "code",
   "execution_count": 16,
   "id": "5b0b0c88",
   "metadata": {},
   "outputs": [],
   "source": [
    "from sklearn.model_selection import train_test_split"
   ]
  },
  {
   "cell_type": "code",
   "execution_count": 17,
   "id": "c4e56129",
   "metadata": {},
   "outputs": [],
   "source": [
    "X_train, X_test, y_train, y_test = train_test_split(t, x, test_size=0.33, random_state=42)"
   ]
  },
  {
   "cell_type": "markdown",
   "id": "f178bd40",
   "metadata": {},
   "source": [
    "## Reg. lineal en scikitlearn"
   ]
  },
  {
   "cell_type": "code",
   "execution_count": 18,
   "id": "1ff9d91b",
   "metadata": {},
   "outputs": [],
   "source": [
    "from sklearn.linear_model import LinearRegression"
   ]
  },
  {
   "cell_type": "code",
   "execution_count": null,
   "id": "6a62764d",
   "metadata": {},
   "outputs": [],
   "source": []
  },
  {
   "cell_type": "code",
   "execution_count": 22,
   "id": "08b4a04c",
   "metadata": {},
   "outputs": [],
   "source": [
    "reg = LinearRegression()\n",
    "\n",
    "reg = reg.fit(X_train[:, None], y_train)"
   ]
  },
  {
   "cell_type": "code",
   "execution_count": 24,
   "id": "ed5fd216",
   "metadata": {},
   "outputs": [],
   "source": [
    "x_pred = reg.predict(X_test[:,None])"
   ]
  },
  {
   "cell_type": "markdown",
   "id": "665265f1",
   "metadata": {},
   "source": [
    "Necesitamos ordenar la lista de valores, ya que el train_test_split aplica un shuffle sobre los datos y perdemos el orden temporal. "
   ]
  },
  {
   "cell_type": "code",
   "execution_count": 26,
   "id": "b80f68b0",
   "metadata": {},
   "outputs": [],
   "source": [
    "indices = np.argsort(y_test)\n",
    "\n",
    "X_test = X_test[indices]\n",
    "y_test = y_test[indices]\n",
    "x_pred = x_pred[indices]"
   ]
  },
  {
   "cell_type": "markdown",
   "id": "8c75ac2a",
   "metadata": {},
   "source": [
    "Para comparar debemos evaluar las otras dos funciones con el mismo conjunto de test\n"
   ]
  },
  {
   "cell_type": "code",
   "execution_count": 27,
   "id": "962bcc62",
   "metadata": {},
   "outputs": [],
   "source": [
    "x_f1 = np.ones(len(X_test)) * y_test.mean()\n",
    "x_f2 = (y_test[-1]-y_test[0])/(X_test[-1]-X_test[0])*(X_test - X_test[0]) + X_test[-1]"
   ]
  },
  {
   "cell_type": "code",
   "execution_count": 28,
   "id": "f9f96205",
   "metadata": {},
   "outputs": [
    {
     "data": {
      "text/plain": [
       "<matplotlib.legend.Legend at 0x7f036d74e4c0>"
      ]
     },
     "execution_count": 28,
     "metadata": {},
     "output_type": "execute_result"
    },
    {
     "data": {
      "image/png": "[encoded data removed]",
      "text/plain": [
       "<Figure size 1080x360 with 1 Axes>"
      ]
     },
     "metadata": {
      "needs_background": "light"
     },
     "output_type": "display_data"
    }
   ],
   "source": [
    "plt.figure(figsize=(15,5))\n",
    "\n",
    "plt.scatter(X_test, y_test, s=5, label='Data', color='darkblue')\n",
    "\n",
    "plt.plot(X_test, x_f1, label='$f_1$', color='darkred')\n",
    "plt.plot(X_test, x_f2, label='$f_2$', color='darkgreen')\n",
    "plt.plot(X_test, x_pred, label='$f_3$', color='orange')\n",
    "\n",
    "\n",
    "plt.legend()"
   ]
  },
  {
   "cell_type": "code",
   "execution_count": 30,
   "id": "f2ec0565",
   "metadata": {},
   "outputs": [
    {
     "name": "stdout",
     "output_type": "stream",
     "text": [
      "MSE F_1: 8252522.88\n",
      "MSE F_2: 1185049.74\n",
      "MSE F_3: 237627.20\n"
     ]
    }
   ],
   "source": [
    "print('MSE F_1: {:.2f}\\nMSE F_2: {:.2f}\\nMSE F_3: {:.2f}'.format(mean_squared_error(y_test, x_f1, squared=True), \n",
    "                                                                 mean_squared_error(y_test, x_f2, squared=True),\n",
    "                                                                 mean_squared_error(y_test, x_pred, squared=True)))"
   ]
  },
  {
   "cell_type": "markdown",
   "id": "33fb27e2",
   "metadata": {},
   "source": [
    "La regresion lineal que ajustamos, obtiene el mejor MSE en comparacion con las otras funciones. Aun mas, podemos revisar los coeficientes "
   ]
  },
  {
   "cell_type": "code",
   "execution_count": null,
   "id": "3a412403",
   "metadata": {},
   "outputs": [],
   "source": []
  },
  {
   "cell_type": "code",
   "execution_count": 31,
   "id": "736d5e15",
   "metadata": {},
   "outputs": [
    {
     "name": "stdout",
     "output_type": "stream",
     "text": [
      "m = 103.80\n",
      "b = -897.92\n"
     ]
    }
   ],
   "source": [
    "print('m = {:.2f}\\nb = {:.2f}'.format(reg.coef_[0], reg.intercept_))"
   ]
  },
  {
   "cell_type": "markdown",
   "id": "2a37cb76",
   "metadata": {},
   "source": [
    "En el caso de nuestra ecuacion:\n",
    "\n",
    "$\\begin{equation}\n",
    "x = x_0 + 50t + \\frac{1}{2}at^2\n",
    "\\end{equation}$\n",
    "donde $a \\sim \\mathcal{N}(1, 2)$\n",
    "\n",
    "Como podemos observar los valores no coinciden con los de nuestra ecuacion. Una razon tiene que ver con el grado del polinomio. En este caso estamos ajustando una regresion lineal sin embargo las relaciones de nuestra ecuacion no son lineales.\n",
    "\n",
    "En particular, \n",
    "- La relacion entre la velocidad y el tiempo es lineal. Sin embargo, la velocidad tienen un ruido $\\sim \\mathcal{N}(1, 1)$ el cual no podemos ajustar (ya que es totalmente aleatorio)\n",
    "- La aceleracion tiene una relacion no lineal (cuadratica) con el tiempo. En el ejercicio este valor fue capturado por el coeficiente de intercepcion en la ecuacion de la recta. Al igual que la velocidad la aceleracion es una variable aleatoria, la cual no tiene un valor fijo."
   ]
  },
  {
   "cell_type": "markdown",
   "id": "d07eba99",
   "metadata": {},
   "source": [
    "Asumiendo que la nuestros datos podrian tener una correlacion no lineal, trataremos de ajustar un modelo de regresion polinomial.\n",
    "\n",
    "Lo primero que debemos considerar es **la matriz de diseno** ($D_x$). Debemos generar una matriz con los $M$ grados que necesitamos, tal que:\n",
    "\n",
    "\\begin{eqnarray}\n",
    "    f(\\boldsymbol{x}) & = & D_x\\boldsymbol{m} + \\epsilon \\\\ \\\\\n",
    "     &=& \\begin{bmatrix}\n",
    "           1 & x_{0} & x_{0}^2 & ... & x_{0}^M \\\\\n",
    "           1 & x_{1} & x_{1}^2 & ... & x_{1}^M\\\\\n",
    "           \\vdots & \\vdots & \\vdots & \\ddots & \\vdots \\\\\n",
    "           1 & x_{N} & x_{N}^2 & ... & x_{N}^M\n",
    "         \\end{bmatrix} \\begin{bmatrix} m_0 \\\\ m_1 \\\\ \\cdots \\\\ m_D \\end{bmatrix} + \\epsilon \\\\\\\\\n",
    "         y_i & = & \\sum_{j=0}^M x_{ij}^jm_{j} + \\epsilon_j\n",
    "\\end{eqnarray}"
   ]
  },
  {
   "cell_type": "code",
   "execution_count": 34,
   "id": "b2da28bf",
   "metadata": {},
   "outputs": [],
   "source": [
    "from sklearn.preprocessing import PolynomialFeatures\n",
    "\n",
    "polyfeat = PolynomialFeatures(degree=3)\n",
    "\n",
    "polyfeat = polyfeat.fit(X_train[:,None])\n",
    "\n",
    "D_train = polyfeat.transform(X_train[:,None]) \n",
    "D_test = polyfeat.transform(X_test[:,None]) "
   ]
  },
  {
   "cell_type": "markdown",
   "id": "64c01377",
   "metadata": {},
   "source": [
    "Ocuparemos el mismo modelo lineal, pero ahora utilizando la matriz de diseno como input"
   ]
  },
  {
   "cell_type": "code",
   "execution_count": 35,
   "id": "071a0ab8",
   "metadata": {},
   "outputs": [],
   "source": [
    "poly_reg = LinearRegression()\n",
    "poly_reg = poly_reg.fit(D_train, y_train)"
   ]
  },
  {
   "cell_type": "code",
   "execution_count": 36,
   "id": "a43a9920",
   "metadata": {},
   "outputs": [],
   "source": [
    "x_pred_poly = poly_reg.predict(D_test)"
   ]
  },
  {
   "cell_type": "code",
   "execution_count": null,
   "id": "195c0cd6",
   "metadata": {},
   "outputs": [],
   "source": []
  },
  {
   "cell_type": "code",
   "execution_count": 39,
   "id": "f3ad93d4",
   "metadata": {},
   "outputs": [
    {
     "data": {
      "text/plain": [
       "<matplotlib.legend.Legend at 0x7f036d6b0940>"
      ]
     },
     "execution_count": 39,
     "metadata": {},
     "output_type": "execute_result"
    },
    {
     "data": {
      "image/png": "[encoded data removed]",
      "text/plain": [
       "<Figure size 1080x360 with 1 Axes>"
      ]
     },
     "metadata": {
      "needs_background": "light"
     },
     "output_type": "display_data"
    }
   ],
   "source": [
    "plt.figure(figsize=(15,5))\n",
    "\n",
    "plt.scatter(X_test, y_test, s=5, label='Data', color='darkblue')\n",
    "\n",
    "plt.plot(X_test, x_f1, label='$f_1$', color='darkred')\n",
    "plt.plot(X_test, x_f2, label='$f_2$', color='darkgreen')\n",
    "plt.plot(X_test, x_pred, label='$f_3$', color='orange')\n",
    "\n",
    "plt.plot(X_test, x_pred_poly, '--r', label='Polynomial Regression')\n",
    "\n",
    "plt.legend()"
   ]
  },
  {
   "cell_type": "code",
   "execution_count": 40,
   "id": "a2fa56a6",
   "metadata": {},
   "outputs": [
    {
     "name": "stdout",
     "output_type": "stream",
     "text": [
      "MSE F_1: 8252522.88\n",
      "MSE F_2: 1185049.74\n",
      "MSE F_3: 237627.20\n",
      "MSE F_4: 112270.40\n"
     ]
    }
   ],
   "source": [
    "print('MSE F_1: {:.2f}\\nMSE F_2: {:.2f}\\nMSE F_3: {:.2f}\\nMSE F_4: {:.2f}'.format(mean_squared_error(y_test, x_f1, squared=True), \n",
    "                                                                 mean_squared_error(y_test, x_f2, squared=True),\n",
    "                                                                 mean_squared_error(y_test, x_pred, squared=True),\n",
    "                                                                 mean_squared_error(y_test, x_pred_poly, squared=True)))"
   ]
  },
  {
   "cell_type": "markdown",
   "id": "db48d9ae",
   "metadata": {},
   "source": [
    "El error disminiuyo aun mas ya que ahora capturamos las relaciones no lineales entre las variables de entrada y de salida "
   ]
  },
  {
   "cell_type": "markdown",
   "id": "933b319a",
   "metadata": {},
   "source": [
    "### Hasta cuando podemos seguir aumentando el grado de nuestro polinomio?\n",
    "\n",
    "<img src=\"https://res.cloudinary.com/dyd911kmh/image/upload/f_auto,q_auto:best/v1543418451/tradeoff_sevifm.png\" alt=\"BiasVariance\" width=\"500\" height=\"600\"> "
   ]
  },
  {
   "cell_type": "markdown",
   "id": "fe8e231c",
   "metadata": {},
   "source": [
    "Para encontrar el optimo donde el modelo generaliza de la mejor manera posible podemos aplicar **regularizadores**. \n",
    "\n",
    "El termino regularizador se ubica en la funcion de costo (MSE) y penaliza en funcion de algun criterio. \n",
    "\n",
    "Lasso y Ridge son dos extensiones de la regresion lineal (o polinomial) donde:\n",
    "\n",
    "\\begin{eqnarray}\n",
    "    \\mathcal{L}_{ridge} &=& \\text{MSE} + \\lambda||\\boldsymbol{w}||^2_2 \\\\\n",
    "                        &=& \\text{MSE} + \\lambda\\sum_jw_j^2\n",
    "\\end{eqnarray}\n",
    "\\begin{eqnarray}\n",
    "    \\mathcal{L}_{lasso} &=& \\text{MSE} + \\lambda||\\boldsymbol{w}||_1 \\\\\n",
    "                        &=& \\text{MSE} + \\lambda\\sum_j|w_j|\n",
    "\\end{eqnarray}\n",
    "\n",
    "en este caso $w$ son los pesos del modelo"
   ]
  },
  {
   "cell_type": "code",
   "execution_count": 41,
   "id": "36d7dea8",
   "metadata": {},
   "outputs": [],
   "source": [
    "from sklearn.linear_model import Lasso, Ridge"
   ]
  },
  {
   "cell_type": "code",
   "execution_count": 69,
   "id": "5173f95e",
   "metadata": {},
   "outputs": [
    {
     "name": "stderr",
     "output_type": "stream",
     "text": [
      "/home/cridonoso/miniconda3/envs/tf2/lib/python3.8/site-packages/sklearn/linear_model/_coordinate_descent.py:530: ConvergenceWarning: Objective did not converge. You might want to increase the number of iterations. Duality gap: 8866788.199390316, tolerance: 62903.00058429701\n",
      "  model = cd_fast.enet_coordinate_descent(\n"
     ]
    },
    {
     "data": {
      "text/plain": [
       "Lasso(alpha=0.1)"
      ]
     },
     "execution_count": 69,
     "metadata": {},
     "output_type": "execute_result"
    }
   ],
   "source": [
    "lineal = LinearRegression()\n",
    "lineal.fit(D_train, y_train)\n",
    "\n",
    "ridge = Ridge(alpha=10000)\n",
    "ridge.fit(D_train, y_train)\n",
    "\n",
    "lasso = Lasso(alpha=0.1)\n",
    "lasso.fit(D_train, y_train)"
   ]
  },
  {
   "cell_type": "code",
   "execution_count": 70,
   "id": "8173d871",
   "metadata": {},
   "outputs": [
    {
     "data": {
      "text/plain": [
       "array([ 0.00000000e+00,  3.32804637e+01,  1.03759625e+00, -3.70851427e-03])"
      ]
     },
     "execution_count": 70,
     "metadata": {},
     "output_type": "execute_result"
    }
   ],
   "source": [
    "lasso.coef_"
   ]
  },
  {
   "cell_type": "code",
   "execution_count": 71,
   "id": "72d49f0d",
   "metadata": {},
   "outputs": [
    {
     "data": {
      "text/plain": [
       "array([ 0.        ,  1.60837578,  1.75353894, -0.00815924])"
      ]
     },
     "execution_count": 71,
     "metadata": {},
     "output_type": "execute_result"
    }
   ],
   "source": [
    "ridge.coef_"
   ]
  },
  {
   "cell_type": "code",
   "execution_count": 72,
   "id": "d4f7b40a",
   "metadata": {},
   "outputs": [
    {
     "data": {
      "image/png": "[encoded data removed]",
      "text/plain": [
       "<Figure size 1080x360 with 1 Axes>"
      ]
     },
     "metadata": {
      "needs_background": "light"
     },
     "output_type": "display_data"
    }
   ],
   "source": [
    "plt.figure(figsize=(15,5))\n",
    "plt.plot(lasso.coef_ ,alpha=0.7, linestyle='none',\n",
    "         marker='s',markersize=5,color='red',\n",
    "         label=r'Lasso; $\\alpha = 0.01$',zorder=7)\n",
    "\n",
    "plt.plot(ridge.coef_ ,alpha=0.7, linestyle='none',\n",
    "         marker='s',markersize=5,color='blue',\n",
    "         label=r'Ridge; $\\alpha = 0.01$',zorder=7)\n",
    "plt.legend()\n",
    "plt.title('Coeficientes de la regresion para LASSO y Ridge')\n",
    "\n",
    "plt.show()"
   ]
  },
  {
   "cell_type": "code",
   "execution_count": 50,
   "id": "d2b51e1d",
   "metadata": {},
   "outputs": [
    {
     "name": "stdout",
     "output_type": "stream",
     "text": [
      "Modelo \t - Train MSE - Test MSE\n",
      "MSE Lineal: 264579.92 - 112270.40\n",
      "MSE Lasso: 264718.95 - 109370.94\n",
      "MSE Ridge: 264579.92 - 112273.78\n"
     ]
    }
   ],
   "source": [
    "print('Modelo \\t - Train MSE - Test MSE')\n",
    "for model, name in zip([lineal, lasso, ridge], ['Lineal', 'Lasso', 'Ridge']):\n",
    "    y_pred_test  = model.predict(D_test)\n",
    "    y_pred  = model.predict(D_train)\n",
    "    print('MSE {}: {:.2f} - {:.2f}'.format(name, mean_squared_error(y_train, y_pred, squared=True),\n",
    "                                           mean_squared_error(y_test, y_pred_test, squared=True)))\n",
    "     "
   ]
  },
  {
   "cell_type": "code",
   "execution_count": 54,
   "id": "3403b0e5",
   "metadata": {},
   "outputs": [
    {
     "name": "stdout",
     "output_type": "stream",
     "text": [
      "Modelo \t - Train R2 - Test R2\n",
      "R2 Lineal: 0.9718 - 0.9864\n",
      "R2 Lasso: 0.9718 - 0.9867\n",
      "R2 Ridge: 0.9718 - 0.9864\n"
     ]
    }
   ],
   "source": [
    "print('Modelo \\t - Train R2 - Test R2')\n",
    "for model, name in zip([lineal, lasso, ridge], ['Lineal', 'Lasso', 'Ridge']):\n",
    "    y_pred_test  = model.predict(D_test)\n",
    "    y_pred  = model.predict(D_train)\n",
    "    print('R2 {}: {:.4f} - {:.4f}'.format(name, r2_score(y_train, y_pred),\n",
    "                                           r2_score(y_test, y_pred_test)))\n",
    "    \n"
   ]
  },
  {
   "cell_type": "code",
   "execution_count": null,
   "id": "290196c5",
   "metadata": {},
   "outputs": [],
   "source": []
  }
 ],
 "metadata": {
  "kernelspec": {
   "display_name": "Python 3",
   "language": "python",
   "name": "python3"
  },
  "language_info": {
   "codemirror_mode": {
    "name": "ipython",
    "version": 3
   },
   "file_extension": ".py",
   "mimetype": "text/x-python",
   "name": "python",
   "nbconvert_exporter": "python",
   "pygments_lexer": "ipython3",
   "version": "3.8.8"
  }
 },
 "nbformat": 4,
 "nbformat_minor": 5
}
