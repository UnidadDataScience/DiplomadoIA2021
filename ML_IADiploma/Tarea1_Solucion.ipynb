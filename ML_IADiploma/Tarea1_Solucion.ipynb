{
 "cells": [
  {
   "cell_type": "markdown",
   "id": "472bbd62",
   "metadata": {},
   "source": [
    "# Tarea 1 (Solucion)"
   ]
  },
  {
   "cell_type": "code",
   "execution_count": 1,
   "id": "8ecb000a",
   "metadata": {},
   "outputs": [],
   "source": [
    "import pandas as pd"
   ]
  },
  {
   "cell_type": "markdown",
   "id": "c026aa27",
   "metadata": {},
   "source": [
    "## Problema 1: Clasificacion de Hongos\n",
    "\n",
    "Los hongos son organismos vivos pertenecientes al Reino Fungi. De manera similar a los seres humanos, los hongos sin iuncapaes de realizar la fotosintesis y se alimentan de hidratos de carbono ya elaborados [1](https://kataix.umag.cl/sib-aysen/hongusto/meet-fungi/). \n",
    "\n",
    "| Agaricus | Lepiota   |\n",
    "|---|---|\n",
    "| <img src=\"./figures/agaricus.jpg\" width=\"200\" height=\"200\">| <img src=\"./figures/lepiota.jpg\" width=\"210\" height=\"300\"> |\n",
    "\n",
    "Algunos de estos Hongos son comestibles, como el *Agaricus bisporus* (champiñón común). Sin embargo, dependiendo de ciertas caracteristicas como el color, tamaño y láminas, podemos identificar generos venenosos."
   ]
  },
  {
   "cell_type": "markdown",
   "id": "10a3edb1",
   "metadata": {},
   "source": [
    "El siguiente conjunto de datos incluye informacion descriptiva de 23 especies de hongos con branquias de la familia Agaricus y Lepiota. Cada especie se identifica como comestible (`e`) o venenosa (`p`)"
   ]
  },
  {
   "cell_type": "markdown",
   "id": "68333ac2",
   "metadata": {},
   "source": [
    "| atributo | valores   |\n",
    "|---|---|\n",
    "|Cap-shape | {x, b, s, f, k, c} |\n",
    "|Cap-surface | {s, y, f, g} |\n",
    "|Cap-color |{n, y, w, g, e, p, b, u, c, r} |\n",
    "|Bruises | {t, f} |\n",
    "|Odor | {p, a, l, n, f, c, y, s, m} |\n",
    "|Gill-attachment | {f, a, d, n} |\n",
    "|Gill-spacing | {c, w, d} |\n",
    "|Gill-size | {n, b} |\n",
    "|Gill-color | {k, n, g, p, w, h, u, e, b, r, y, o} |\n",
    "|Stalk-shape | {e, t} |\n",
    "|Stalk-root | {e, c, b, r, u, z} |\n",
    "|Stalk-surface-above-ring | {s, f, k, y} |\n",
    "|Stalk-surface-below-ring | {s, f, y, k} |\n",
    "|Stalk-color-above-ring | {w, g, p, n, b, e, o, c, y} |\n",
    "|Stalk-color-below-ring | {w, p, g, b, n, e, y, o, c} |\n",
    "|Veil-type | {p, u} |\n",
    "|Veil-color | {w, n, o, y} |\n",
    "|Ring-number | {o, t, n} |\n",
    "|Ring-type | {p, e, l, f, n, c, s, z} |\n",
    "|Spore-print-color | {k, n, u, h, w, r, o, y, b} |\n",
    "|Population | {s, n, a, v, y, c} |\n",
    "|Habitat | {u, g, m, d, p, w, l} |\n",
    "|Class | {p, e} |"
   ]
  },
  {
   "cell_type": "code",
   "execution_count": 2,
   "id": "a11ec09c",
   "metadata": {},
   "outputs": [
    {
     "data": {
      "text/html": [
       "<div>\n",
       "<style scoped>\n",
       "    .dataframe tbody tr th:only-of-type {\n",
       "        vertical-align: middle;\n",
       "    }\n",
       "\n",
       "    .dataframe tbody tr th {\n",
       "        vertical-align: top;\n",
       "    }\n",
       "\n",
       "    .dataframe thead th {\n",
       "        text-align: right;\n",
       "    }\n",
       "</style>\n",
       "<table border=\"1\" class=\"dataframe\">\n",
       "  <thead>\n",
       "    <tr style=\"text-align: right;\">\n",
       "      <th></th>\n",
       "      <th>Cap-shape</th>\n",
       "      <th>Cap-surface</th>\n",
       "      <th>Cap-color</th>\n",
       "      <th>Bruises</th>\n",
       "      <th>Odor</th>\n",
       "      <th>Gill-attachment</th>\n",
       "      <th>Gill-spacing</th>\n",
       "      <th>Gill-size</th>\n",
       "      <th>Gill-color</th>\n",
       "      <th>Stalk-shape</th>\n",
       "      <th>...</th>\n",
       "      <th>Stalk-color-above-ring</th>\n",
       "      <th>Stalk-color-below-ring</th>\n",
       "      <th>Veil-type</th>\n",
       "      <th>Veil-color</th>\n",
       "      <th>Ring-number</th>\n",
       "      <th>Ring-type</th>\n",
       "      <th>Spore-print-color</th>\n",
       "      <th>Population</th>\n",
       "      <th>Habitat</th>\n",
       "      <th>Class</th>\n",
       "    </tr>\n",
       "  </thead>\n",
       "  <tbody>\n",
       "    <tr>\n",
       "      <th>5713</th>\n",
       "      <td>x</td>\n",
       "      <td>y</td>\n",
       "      <td>e</td>\n",
       "      <td>f</td>\n",
       "      <td>y</td>\n",
       "      <td>f</td>\n",
       "      <td>c</td>\n",
       "      <td>n</td>\n",
       "      <td>b</td>\n",
       "      <td>t</td>\n",
       "      <td>...</td>\n",
       "      <td>w</td>\n",
       "      <td>p</td>\n",
       "      <td>p</td>\n",
       "      <td>w</td>\n",
       "      <td>o</td>\n",
       "      <td>e</td>\n",
       "      <td>w</td>\n",
       "      <td>v</td>\n",
       "      <td>p</td>\n",
       "      <td>p</td>\n",
       "    </tr>\n",
       "    <tr>\n",
       "      <th>6174</th>\n",
       "      <td>f</td>\n",
       "      <td>NaN</td>\n",
       "      <td>e</td>\n",
       "      <td>f</td>\n",
       "      <td>f</td>\n",
       "      <td>f</td>\n",
       "      <td>c</td>\n",
       "      <td>n</td>\n",
       "      <td>b</td>\n",
       "      <td>t</td>\n",
       "      <td>...</td>\n",
       "      <td>w</td>\n",
       "      <td>p</td>\n",
       "      <td>p</td>\n",
       "      <td>w</td>\n",
       "      <td>o</td>\n",
       "      <td>e</td>\n",
       "      <td>w</td>\n",
       "      <td>v</td>\n",
       "      <td>p</td>\n",
       "      <td>p</td>\n",
       "    </tr>\n",
       "    <tr>\n",
       "      <th>1299</th>\n",
       "      <td>f</td>\n",
       "      <td>s</td>\n",
       "      <td>w</td>\n",
       "      <td>f</td>\n",
       "      <td>n</td>\n",
       "      <td>f</td>\n",
       "      <td>w</td>\n",
       "      <td>b</td>\n",
       "      <td>n</td>\n",
       "      <td>t</td>\n",
       "      <td>...</td>\n",
       "      <td>w</td>\n",
       "      <td>w</td>\n",
       "      <td>p</td>\n",
       "      <td>w</td>\n",
       "      <td>o</td>\n",
       "      <td>e</td>\n",
       "      <td>n</td>\n",
       "      <td>a</td>\n",
       "      <td>g</td>\n",
       "      <td>e</td>\n",
       "    </tr>\n",
       "  </tbody>\n",
       "</table>\n",
       "<p>3 rows × 23 columns</p>\n",
       "</div>"
      ],
      "text/plain": [
       "     Cap-shape  Cap-surface  Cap-color  Bruises  Odor  Gill-attachment  \\\n",
       "5713         x            y          e        f     y                f   \n",
       "6174         f          NaN          e        f     f                f   \n",
       "1299         f            s          w        f     n                f   \n",
       "\n",
       "      Gill-spacing  Gill-size  Gill-color  Stalk-shape  ...  \\\n",
       "5713             c          n           b            t  ...   \n",
       "6174             c          n           b            t  ...   \n",
       "1299             w          b           n            t  ...   \n",
       "\n",
       "      Stalk-color-above-ring  Stalk-color-below-ring  Veil-type  Veil-color  \\\n",
       "5713                       w                       p          p           w   \n",
       "6174                       w                       p          p           w   \n",
       "1299                       w                       w          p           w   \n",
       "\n",
       "      Ring-number  Ring-type  Spore-print-color  Population  Habitat Class  \n",
       "5713            o          e                  w           v        p     p  \n",
       "6174            o          e                  w           v        p     p  \n",
       "1299            o          e                  n           a        g     e  \n",
       "\n",
       "[3 rows x 23 columns]"
      ]
     },
     "execution_count": 2,
     "metadata": {},
     "output_type": "execute_result"
    }
   ],
   "source": [
    "dataframe = pd.read_csv('./data/mushroom.dat')\n",
    "dataframe.sample(3)"
   ]
  },
  {
   "cell_type": "markdown",
   "id": "c7dd3606",
   "metadata": {},
   "source": [
    "#### 1.1 Grafique la distribucion de clases "
   ]
  },
  {
   "cell_type": "code",
   "execution_count": 3,
   "id": "21ee345c",
   "metadata": {},
   "outputs": [
    {
     "data": {
      "image/png": "[encoded data removed]",
      "text/plain": [
       "<Figure size 576x360 with 1 Axes>"
      ]
     },
     "metadata": {
      "needs_background": "light"
     },
     "output_type": "display_data"
    }
   ],
   "source": [
    "import matplotlib.pyplot as plt\n",
    "plt.figure(figsize=(8,5))\n",
    "labels_dict = dataframe['Class'].value_counts(normalize=True)\n",
    "plt.bar(range(labels_dict.shape[0]), labels_dict.values)\n",
    "plt.xticks(range(labels_dict.shape[0]), ['Comestible', 'Venenosa'])\n",
    "plt.show()"
   ]
  },
  {
   "cell_type": "markdown",
   "id": "94f720b1",
   "metadata": {},
   "source": [
    "#### 1.2 Identifique valores faltantes."
   ]
  },
  {
   "cell_type": "code",
   "execution_count": 4,
   "id": "c36bd16c",
   "metadata": {},
   "outputs": [
    {
     "data": {
      "text/plain": [
       "Cap-shape                    True\n",
       " Cap-surface                 True\n",
       " Cap-color                   True\n",
       " Bruises                     True\n",
       " Odor                        True\n",
       " Gill-attachment             True\n",
       " Gill-spacing                True\n",
       " Gill-size                   True\n",
       " Gill-color                  True\n",
       " Stalk-shape                 True\n",
       " Stalk-root                  True\n",
       " Stalk-surface-above-ring    True\n",
       " Stalk-surface-below-ring    True\n",
       " Stalk-color-above-ring      True\n",
       " Stalk-color-below-ring      True\n",
       " Veil-type                   True\n",
       " Veil-color                  True\n",
       " Ring-number                 True\n",
       " Ring-type                   True\n",
       " Spore-print-color           True\n",
       " Population                  True\n",
       " Habitat                     True\n",
       "Class                        True\n",
       "dtype: bool"
      ]
     },
     "execution_count": 4,
     "metadata": {},
     "output_type": "execute_result"
    }
   ],
   "source": [
    "import numpy as np\n",
    "dataframe.isna().any()"
   ]
  },
  {
   "cell_type": "code",
   "execution_count": 5,
   "id": "17584fa2",
   "metadata": {},
   "outputs": [],
   "source": [
    "dataframe = dataframe.fillna('?') ## reemplazamos los valores missing por \"?\""
   ]
  },
  {
   "cell_type": "markdown",
   "id": "0500b0bc",
   "metadata": {},
   "source": [
    "#### 1.3 Preprocese los datos para entrenar un algoritmo de aprendizaje automatico"
   ]
  },
  {
   "cell_type": "code",
   "execution_count": 6,
   "id": "f8d706c3",
   "metadata": {},
   "outputs": [],
   "source": [
    "input_dims = []\n",
    "for col in dataframe.columns:\n",
    "    y_onehot = pd.get_dummies(dataframe[col])\n",
    "    y_onehot.columns = [col+'_'+c for c in y_onehot.columns]\n",
    "    input_dims.append(y_onehot)\n",
    "    \n",
    "matrix = pd.concat(input_dims, 1)\n",
    "X = matrix.iloc[:, :-2]\n",
    "y = matrix.iloc[:, -2:]"
   ]
  },
  {
   "cell_type": "markdown",
   "id": "2bd58412",
   "metadata": {},
   "source": [
    "#### 1.4 Divida el conjunto de entrenamiento"
   ]
  },
  {
   "cell_type": "code",
   "execution_count": 7,
   "id": "6221318b",
   "metadata": {},
   "outputs": [],
   "source": [
    "from sklearn.model_selection import train_test_split"
   ]
  },
  {
   "cell_type": "code",
   "execution_count": 8,
   "id": "284313c8",
   "metadata": {},
   "outputs": [],
   "source": [
    "X_train, X_test, \\\n",
    "y_train, y_test = train_test_split(X, y, test_size=0.33, random_state=42)"
   ]
  },
  {
   "cell_type": "markdown",
   "id": "c17b2696",
   "metadata": {},
   "source": [
    "#### 1.5 Entrene el algoritmo"
   ]
  },
  {
   "cell_type": "code",
   "execution_count": 9,
   "id": "247f02fc",
   "metadata": {},
   "outputs": [],
   "source": [
    "from sklearn.ensemble import RandomForestClassifier\n",
    "\n",
    "clf = RandomForestClassifier(random_state=1234)\n",
    "clf = clf.fit(X_train, y_train)"
   ]
  },
  {
   "cell_type": "markdown",
   "id": "dcd21949",
   "metadata": {},
   "source": [
    "#### 1.5 Valide el algoritmo"
   ]
  },
  {
   "cell_type": "code",
   "execution_count": 10,
   "id": "d72e7cad",
   "metadata": {},
   "outputs": [
    {
     "name": "stdout",
     "output_type": "stream",
     "text": [
      "[Train] precision: 1.000 recall: 1.0 F1: 1.000\n",
      "[Test]  precision: 0.999 recall: 1.000 F1: 0.999\n"
     ]
    }
   ],
   "source": [
    "from sklearn.metrics import precision_recall_fscore_support\n",
    "y_pred = clf.predict(X_train)\n",
    "prec, recall, f1, _ = precision_recall_fscore_support(y_train, y_pred, average='macro')\n",
    "print('[Train] precision: {:.3f} recall: {} F1: {:.3f}'.format(prec, recall, f1))\n",
    "\n",
    "y_pred = clf.predict(X_test)\n",
    "prec, recall, f1, _ = precision_recall_fscore_support(y_test, y_pred, average='macro')\n",
    "print('[Test]  precision: {:.3f} recall: {:.3f} F1: {:.3f}'.format(prec, recall, f1))"
   ]
  },
  {
   "cell_type": "code",
   "execution_count": 11,
   "id": "4dc31876",
   "metadata": {},
   "outputs": [
    {
     "data": {
      "image/png": "[encoded data removed]",
      "text/plain": [
       "<Figure size 720x288 with 1 Axes>"
      ]
     },
     "metadata": {
      "needs_background": "light"
     },
     "output_type": "display_data"
    }
   ],
   "source": [
    "import matplotlib.pyplot as plt\n",
    "\n",
    "fig = plt.figure(figsize=(10,4))\n",
    "x = range(len(clf.feature_importances_))\n",
    "indices = np.argsort(clf.feature_importances_)\n",
    "\n",
    "importance = clf.feature_importances_[indices][::-1]\n",
    "attrib_name = X.columns[indices][::-1]\n",
    "\n",
    "N = 10\n",
    "plt.bar(x[:N], importance[:N])\n",
    "plt.xticks(x[:N], attrib_name[:N], rotation=90)\n",
    "plt.show()"
   ]
  },
  {
   "cell_type": "markdown",
   "id": "290312b6",
   "metadata": {},
   "source": [
    "#### 1.4 Concluya los resultados obtenidos"
   ]
  },
  {
   "cell_type": "markdown",
   "id": "be40ce74",
   "metadata": {},
   "source": [
    "Se aprecia un sobreajuste en el entrenamiento i.e., 100% de F1 en entrenamiento y muy alto en test. Esto se puede deber a que las clases no varian mucho entre si, por lo tanto, los conjuntos son similares. Al ver el `feature importance` podemos ver una importancia significativa del atributo `Odor_n`(~8% de diferencia con la segunda mayoria) el cual representa el olor. Respecto de los otros atributos podemos ver importancias similares y menores al 10%. En otras palabras, durante el proceso discriminativo, la correlacion entre estos atributos es importante para separar clases."
   ]
  },
  {
   "cell_type": "markdown",
   "id": "f0d3f604",
   "metadata": {},
   "source": [
    "## Problema 2: Prediciendo la demanda de taxis en NYC\n",
    "\n",
    "En este problema, construiremos un modelo de regresion para predecir el numero de texis solicitados en la ciudad de Nueva York. Estos modelos suelen ser utiles, por ejemplo, para monitorear el traficio en la ciudad.\n",
    "\n",
    "Los datos para este problema se encuentran en el archivo `nyc_taxi.csv`. La primera columna indica la hora del dia en minutos, mientras que la segunda columna indica la cantidad de taxis que estan recogiendo pasajeros en ese momento.\n",
    "\n",
    "Se necesita un modelo que reciba la hora en minutos como predictor y prediga la demanda promedio de texis para ese momento del dia. Los modelos deben ser ajustados en el conjunto de entrenamiento y evaluados sobre el conjunto de test. Ademas, la metrica de evaluacion debe ser R2."
   ]
  },
  {
   "cell_type": "markdown",
   "id": "5a23b50d",
   "metadata": {},
   "source": [
    "#### 2.1 Cargue los datos y describa la distribucion de los atributos"
   ]
  },
  {
   "cell_type": "code",
   "execution_count": 12,
   "id": "557c2aab",
   "metadata": {},
   "outputs": [
    {
     "data": {
      "text/html": [
       "<div>\n",
       "<style scoped>\n",
       "    .dataframe tbody tr th:only-of-type {\n",
       "        vertical-align: middle;\n",
       "    }\n",
       "\n",
       "    .dataframe tbody tr th {\n",
       "        vertical-align: top;\n",
       "    }\n",
       "\n",
       "    .dataframe thead th {\n",
       "        text-align: right;\n",
       "    }\n",
       "</style>\n",
       "<table border=\"1\" class=\"dataframe\">\n",
       "  <thead>\n",
       "    <tr style=\"text-align: right;\">\n",
       "      <th></th>\n",
       "      <th>TimeMin</th>\n",
       "      <th>PickupCount</th>\n",
       "    </tr>\n",
       "  </thead>\n",
       "  <tbody>\n",
       "    <tr>\n",
       "      <th>930</th>\n",
       "      <td>139.0</td>\n",
       "      <td>66.0</td>\n",
       "    </tr>\n",
       "    <tr>\n",
       "      <th>783</th>\n",
       "      <td>55.0</td>\n",
       "      <td>68.0</td>\n",
       "    </tr>\n",
       "  </tbody>\n",
       "</table>\n",
       "</div>"
      ],
      "text/plain": [
       "     TimeMin  PickupCount\n",
       "930    139.0         66.0\n",
       "783     55.0         68.0"
      ]
     },
     "execution_count": 12,
     "metadata": {},
     "output_type": "execute_result"
    }
   ],
   "source": [
    "data = pd.read_csv('./data/nyc_taxi.csv')\n",
    "data.sample(2)"
   ]
  },
  {
   "cell_type": "markdown",
   "id": "6a5fb58c",
   "metadata": {},
   "source": [
    "#### 2.2 Separe el conjunto de entrenamiento "
   ]
  },
  {
   "cell_type": "code",
   "execution_count": 13,
   "id": "a8b507eb",
   "metadata": {},
   "outputs": [
    {
     "data": {
      "text/html": [
       "<div>\n",
       "<style scoped>\n",
       "    .dataframe tbody tr th:only-of-type {\n",
       "        vertical-align: middle;\n",
       "    }\n",
       "\n",
       "    .dataframe tbody tr th {\n",
       "        vertical-align: top;\n",
       "    }\n",
       "\n",
       "    .dataframe thead th {\n",
       "        text-align: right;\n",
       "    }\n",
       "</style>\n",
       "<table border=\"1\" class=\"dataframe\">\n",
       "  <thead>\n",
       "    <tr style=\"text-align: right;\">\n",
       "      <th></th>\n",
       "      <th>TimeMin</th>\n",
       "      <th>PickupCount</th>\n",
       "    </tr>\n",
       "  </thead>\n",
       "  <tbody>\n",
       "    <tr>\n",
       "      <th>807</th>\n",
       "      <td>1206.0</td>\n",
       "      <td>30.0</td>\n",
       "    </tr>\n",
       "    <tr>\n",
       "      <th>700</th>\n",
       "      <td>1388.0</td>\n",
       "      <td>22.0</td>\n",
       "    </tr>\n",
       "    <tr>\n",
       "      <th>299</th>\n",
       "      <td>1083.0</td>\n",
       "      <td>46.0</td>\n",
       "    </tr>\n",
       "    <tr>\n",
       "      <th>542</th>\n",
       "      <td>18.0</td>\n",
       "      <td>25.0</td>\n",
       "    </tr>\n",
       "    <tr>\n",
       "      <th>1029</th>\n",
       "      <td>538.0</td>\n",
       "      <td>18.0</td>\n",
       "    </tr>\n",
       "  </tbody>\n",
       "</table>\n",
       "</div>"
      ],
      "text/plain": [
       "      TimeMin  PickupCount\n",
       "807    1206.0         30.0\n",
       "700    1388.0         22.0\n",
       "299    1083.0         46.0\n",
       "542      18.0         25.0\n",
       "1029    538.0         18.0"
      ]
     },
     "execution_count": 13,
     "metadata": {},
     "output_type": "execute_result"
    }
   ],
   "source": [
    "train_data, test_data = train_test_split(data, test_size=0.3, random_state=42)\n",
    "\n",
    "train_data.head()"
   ]
  },
  {
   "cell_type": "markdown",
   "id": "84d5bf41",
   "metadata": {},
   "source": [
    "#### 2.3 Grafique el conjunto de entrenamiento utilizando un scatter plot "
   ]
  },
  {
   "cell_type": "code",
   "execution_count": 14,
   "id": "50196d82",
   "metadata": {},
   "outputs": [
    {
     "data": {
      "image/png": "[encoded data removed]",
      "text/plain": [
       "<Figure size 1008x432 with 2 Axes>"
      ]
     },
     "metadata": {
      "needs_background": "light"
     },
     "output_type": "display_data"
    }
   ],
   "source": [
    "# Your code here\n",
    "fig, axes = plt.subplots(nrows=1, ncols=2, figsize=(14,6))\n",
    "axes[0].scatter(train_data['TimeMin'], train_data['PickupCount'])\n",
    "axes[0].set_xlabel('Tiempo en Minutos')\n",
    "axes[0].set_ylabel('Demanda')\n",
    "\n",
    "# Hours might be a more readable format of displaying the x-axis; apply a scale transformation\n",
    "axes[1].scatter(train_data['TimeMin']/60, train_data['PickupCount']);\n",
    "axes[1].set_xlabel('Tiempo en Minutos');\n",
    "axes[1].set_ylabel('Demanda');"
   ]
  },
  {
   "cell_type": "markdown",
   "id": "8a250ca2",
   "metadata": {},
   "source": [
    "#### 2.4 Brevemente explique el patron de comportamiento de los datos a lo largo del dia"
   ]
  },
  {
   "cell_type": "markdown",
   "id": "356f0b48",
   "metadata": {},
   "source": [
    "Desde los datos podemos ver un comportamiento sinusoidal, el cual puede estar relacionado con el ritmo de vida en NYC. En primer lugar vemos que entre las 00.00 y 5.00 am hay un descenso en el numero de personas que solicito un taxi. Principalmente, esto puede deberse al horario donde los pubs permanecen abiertos. Luego desde las 5.00 am en adelante la gente comienza su dia laboral y por ende la demanda aumenta hasta completar el ciclo.  "
   ]
  },
  {
   "cell_type": "markdown",
   "id": "19e285d8",
   "metadata": {},
   "source": [
    "#### 2.5 En el grafico deberia ver un agujero entre los minutos 500 y 550 donde la demanda es aproximadamente 20-30. Explique el fenomeno"
   ]
  },
  {
   "cell_type": "markdown",
   "id": "d862c079",
   "metadata": {},
   "source": [
    "Este comportamiento puede deberse al efecto del fin de semana. Usualmente, la gente entre las 8 y 9 de la manana permanece en casa durante este periodo."
   ]
  },
  {
   "cell_type": "markdown",
   "id": "9b0271ce",
   "metadata": {},
   "source": [
    " #### 2.6 Entrene un modelo de regresion "
   ]
  },
  {
   "cell_type": "markdown",
   "id": "d848ece8",
   "metadata": {},
   "source": [
    "Se puede ver un comportamiento sinusoidal, lo cual sugiere un podelo no lineal. Para ellos utilizaremos una regresion polinomial con regualizacion Lasso"
   ]
  },
  {
   "cell_type": "code",
   "execution_count": 15,
   "id": "476dd6fc",
   "metadata": {},
   "outputs": [],
   "source": [
    "X_train = train_data.sort_values('TimeMin')['TimeMin'].values\n",
    "y_train = train_data.sort_values('TimeMin')['PickupCount'].values\n",
    "\n",
    "X_test = test_data.sort_values('TimeMin')['TimeMin'].values\n",
    "y_test = test_data.sort_values('TimeMin')['PickupCount'].values"
   ]
  },
  {
   "cell_type": "markdown",
   "id": "83b97010",
   "metadata": {},
   "source": [
    "Creamos la matriz de diseno"
   ]
  },
  {
   "cell_type": "code",
   "execution_count": 16,
   "id": "5d6b93f8",
   "metadata": {},
   "outputs": [],
   "source": [
    "from sklearn.preprocessing import PolynomialFeatures\n",
    "\n",
    "polyfeat = PolynomialFeatures(degree=4)\n",
    "polyfeat = polyfeat.fit(X_train[:,None])\n",
    "\n",
    "D_train = polyfeat.transform(X_train[:,None]) \n",
    "D_test = polyfeat.transform(X_test[:,None]) "
   ]
  },
  {
   "cell_type": "markdown",
   "id": "82df852a",
   "metadata": {},
   "source": [
    "Y finalmente, entrenamos el modelo"
   ]
  },
  {
   "cell_type": "code",
   "execution_count": 17,
   "id": "9aed4f19",
   "metadata": {},
   "outputs": [
    {
     "data": {
      "text/plain": [
       "array([ 0.00000000e+00, -2.07772824e-01,  4.34807511e-04, -2.78616839e-07,\n",
       "        5.14375466e-11])"
      ]
     },
     "execution_count": 17,
     "metadata": {},
     "output_type": "execute_result"
    }
   ],
   "source": [
    "from sklearn.linear_model import Lasso\n",
    "lasso = Lasso(alpha=0.1, max_iter=10e5)\n",
    "lasso.fit(D_train, y_train)\n",
    "\n",
    "lasso.coef_"
   ]
  },
  {
   "cell_type": "markdown",
   "id": "524acb47",
   "metadata": {},
   "source": [
    "#### 2.7 Reporte y explique el valor de R2"
   ]
  },
  {
   "cell_type": "code",
   "execution_count": 18,
   "id": "08beab4c",
   "metadata": {},
   "outputs": [],
   "source": [
    "from sklearn.metrics import r2_score"
   ]
  },
  {
   "cell_type": "code",
   "execution_count": 19,
   "id": "380b61a5",
   "metadata": {},
   "outputs": [
    {
     "name": "stdout",
     "output_type": "stream",
     "text": [
      "R2: 0.37\n"
     ]
    }
   ],
   "source": [
    "y_pred = lasso.predict(D_test)\n",
    "\n",
    "print('R2: {:.2f}'.format(r2_score(y_test, y_pred)))"
   ]
  },
  {
   "cell_type": "code",
   "execution_count": 20,
   "id": "a4e6233e",
   "metadata": {},
   "outputs": [
    {
     "data": {
      "text/plain": [
       "[<matplotlib.lines.Line2D at 0x7fb94013b3d0>]"
      ]
     },
     "execution_count": 20,
     "metadata": {},
     "output_type": "execute_result"
    },
    {
     "data": {
      "image/png": "[encoded data removed]",
      "text/plain": [
       "<Figure size 432x288 with 1 Axes>"
      ]
     },
     "metadata": {
      "needs_background": "light"
     },
     "output_type": "display_data"
    }
   ],
   "source": [
    "plt.figure()\n",
    "plt.plot(y_pred, '.')\n",
    "plt.plot(y_test, '.')"
   ]
  },
  {
   "cell_type": "markdown",
   "id": "569f950f",
   "metadata": {},
   "source": [
    "#### 2.8 Que significa un R2 = 0? y si fuese negativo?"
   ]
  },
  {
   "cell_type": "markdown",
   "id": "11c831c6",
   "metadata": {},
   "source": [
    "- `R2 == 0`: signfica que nuestro modelo es equivalente a utilizar la media\n",
    "- `R2 < 0`: El modelo es peor que utilizar la media "
   ]
  },
  {
   "cell_type": "code",
   "execution_count": null,
   "id": "1721392e",
   "metadata": {},
   "outputs": [],
   "source": []
  }
 ],
 "metadata": {
  "kernelspec": {
   "display_name": "Python 3",
   "language": "python",
   "name": "python3"
  },
  "language_info": {
   "codemirror_mode": {
    "name": "ipython",
    "version": 3
   },
   "file_extension": ".py",
   "mimetype": "text/x-python",
   "name": "python",
   "nbconvert_exporter": "python",
   "pygments_lexer": "ipython3",
   "version": "3.8.8"
  }
 },
 "nbformat": 4,
 "nbformat_minor": 5
}
