{
 "cells": [
  {
   "cell_type": "markdown",
   "id": "d0122660",
   "metadata": {
    "slideshow": {
     "slide_type": "slide"
    }
   },
   "source": [
    "# Aprendizaje Supervisado\n",
    "#### Cristobal Donoso\n",
    "##### 26 Junio de 2021"
   ]
  },
  {
   "cell_type": "markdown",
   "id": "cdf4adee",
   "metadata": {
    "slideshow": {
     "slide_type": "slide"
    }
   },
   "source": [
    "<center><img src=\"./figures/pipeline.png\" width=1920 height=1080><center>\n"
   ]
  },
  {
   "cell_type": "markdown",
   "id": "745b61aa",
   "metadata": {
    "slideshow": {
     "slide_type": "slide"
    }
   },
   "source": [
    "<center><img src=\"./figures/pipeline2.png\" width=1920 height=1080><center>\n"
   ]
  },
  {
   "cell_type": "markdown",
   "id": "1b3b4bd4",
   "metadata": {
    "slideshow": {
     "slide_type": "slide"
    }
   },
   "source": [
    "<center><img src=\"./figures/pipeline3.png\" width=1920 height=1080><center>\n"
   ]
  },
  {
   "cell_type": "markdown",
   "id": "76b0043e",
   "metadata": {
    "slideshow": {
     "slide_type": "slide"
    }
   },
   "source": [
    "# Identificar los datos necesarios\n",
    "\n",
    "- Conocimiento Experto: Caracteristicas o atributos\n",
    "- Simulaciones -> [(series de tiempo)](https://github.com/TimeSynth/TimeSynth)\n",
    "- WebScrapping -> [(tutorial aqui)](https://github.com/cridonoso/IntroToDataScience/blob/master/3-WebScraping/webScraping.ipynb)\n",
    "- Fuerza Bruta - _no recomendado (Zhang et al., 2002)_"
   ]
  },
  {
   "cell_type": "markdown",
   "id": "fbb3bda5",
   "metadata": {
    "slideshow": {
     "slide_type": "slide"
    }
   },
   "source": [
    "# Preprocesamiento\n",
    "## Datos faltantes o Missing values\n",
    "\n",
    "<center><img src=\"./figures/missingtypes.png\" width=1920 height=1080><center>\n",
    "\n",
    "<i><p style='{ font-family: Arial; font-size: 20px;}'>\n",
    "Little, R. J. A., & Rubin, D. R. (1987).Statistical analysis with missing data. New York: John Wiley & Sons.\n",
    "</p></i>"
   ]
  },
  {
   "cell_type": "markdown",
   "id": "04ae9c35",
   "metadata": {
    "slideshow": {
     "slide_type": "slide"
    }
   },
   "source": [
    "# Ejercicios\n",
    "## 1. Identifique el tipo de Valor Faltante \n",
    "\n",
    "\n",
    ">Se extrae una muestra aleatoria desde una poblacion de personas (todos con igual probabilidad de ser elegidos). Debido a que seleccionamos un subconjunto de la poblacion parte de la informacion no sera observada.\n",
    "\n"
   ]
  },
  {
   "cell_type": "markdown",
   "id": "e46a049d",
   "metadata": {
    "slideshow": {
     "slide_type": "slide"
    }
   },
   "source": [
    "# Ejercicios\n",
    "## 2. Identifique el tipo de Valor Faltante \n",
    "\n",
    "\n",
    "> El procentaje de aprobacion de cierta autoridad, desarrollada por el grupo de amigos de la autoridad, resultaron  positivos pese a las numerosas protestas que incluyen al 90% de la poblacion.\n"
   ]
  },
  {
   "cell_type": "markdown",
   "id": "51ee7abb",
   "metadata": {
    "slideshow": {
     "slide_type": "slide"
    }
   },
   "source": [
    "# Ejercicios\n",
    "## 3. Identifique el tipo de Valor Faltante \n",
    "\n",
    "\n",
    "> Quien trasladaba las muestras de PCR aplicados a un grupo de ancianos en la comuna de Loncoche tropieza con un gato que perseguia a un grillo. Dos muestras se pierden despues del accidente.\n",
    "\n"
   ]
  },
  {
   "cell_type": "markdown",
   "id": "04e0e1ab",
   "metadata": {
    "slideshow": {
     "slide_type": "slide"
    }
   },
   "source": [
    "# Ejercicios\n",
    "## 4. Identifique el tipo de Valor Faltante \n",
    "\n",
    "\n",
    "> Cierta persona no se presento a dar el examen de conducir puesto que contrajo COVID-19.\n",
    "\n"
   ]
  },
  {
   "cell_type": "markdown",
   "id": "cfe604d9",
   "metadata": {
    "slideshow": {
     "slide_type": "slide"
    }
   },
   "source": [
    "# Como lidiar con valores faltantes\n",
    "\n",
    "\n",
    "\n"
   ]
  },
  {
   "cell_type": "markdown",
   "id": "548d68d1",
   "metadata": {
    "slideshow": {
     "slide_type": "slide"
    }
   },
   "source": [
    "### Generando datos"
   ]
  },
  {
   "cell_type": "code",
   "execution_count": 4,
   "id": "f6dc4322",
   "metadata": {
    "slideshow": {
     "slide_type": "fragment"
    }
   },
   "outputs": [],
   "source": [
    "import pandas as pd \n",
    "import numpy as np\n",
    "\n",
    "N = 1000\n",
    "id_person = np.arange(N)\n",
    "edades = np.random.randint(5, 80, N)\n",
    "pesos = np.round(np.random.uniform(30, 120, N), 1)\n",
    "estaturas = np.round(np.random.uniform(1, 2, N), 1)\n",
    "mcis = pesos/np.power(estaturas, 2)"
   ]
  },
  {
   "cell_type": "code",
   "execution_count": 5,
   "id": "47dc70e8",
   "metadata": {
    "slideshow": {
     "slide_type": "fragment"
    }
   },
   "outputs": [],
   "source": [
    "def insert_nan(lista, n=2):\n",
    "    lista = lista.astype(object)\n",
    "    lista[np.random.randint(0, len(lista), n)] = np.nan\n",
    "    return lista"
   ]
  },
  {
   "cell_type": "code",
   "execution_count": 6,
   "id": "0ebe062e",
   "metadata": {
    "slideshow": {
     "slide_type": "fragment"
    }
   },
   "outputs": [
    {
     "data": {
      "text/html": [
       "<div>\n",
       "<style scoped>\n",
       "    .dataframe tbody tr th:only-of-type {\n",
       "        vertical-align: middle;\n",
       "    }\n",
       "\n",
       "    .dataframe tbody tr th {\n",
       "        vertical-align: top;\n",
       "    }\n",
       "\n",
       "    .dataframe thead th {\n",
       "        text-align: right;\n",
       "    }\n",
       "</style>\n",
       "<table border=\"1\" class=\"dataframe\">\n",
       "  <thead>\n",
       "    <tr style=\"text-align: right;\">\n",
       "      <th></th>\n",
       "      <th>id</th>\n",
       "      <th>edad</th>\n",
       "      <th>peso</th>\n",
       "      <th>estaturas</th>\n",
       "      <th>mci</th>\n",
       "    </tr>\n",
       "  </thead>\n",
       "  <tbody>\n",
       "    <tr>\n",
       "      <th>299</th>\n",
       "      <td>299</td>\n",
       "      <td>28</td>\n",
       "      <td>109.3</td>\n",
       "      <td>1.3</td>\n",
       "      <td>64.674556</td>\n",
       "    </tr>\n",
       "    <tr>\n",
       "      <th>281</th>\n",
       "      <td>281</td>\n",
       "      <td>38</td>\n",
       "      <td>94.5</td>\n",
       "      <td>1.6</td>\n",
       "      <td>36.914062</td>\n",
       "    </tr>\n",
       "    <tr>\n",
       "      <th>924</th>\n",
       "      <td>924</td>\n",
       "      <td>65</td>\n",
       "      <td>50.8</td>\n",
       "      <td>1.8</td>\n",
       "      <td>15.679012</td>\n",
       "    </tr>\n",
       "    <tr>\n",
       "      <th>87</th>\n",
       "      <td>87</td>\n",
       "      <td>75</td>\n",
       "      <td>71.2</td>\n",
       "      <td>1.3</td>\n",
       "      <td>42.130178</td>\n",
       "    </tr>\n",
       "    <tr>\n",
       "      <th>146</th>\n",
       "      <td>146</td>\n",
       "      <td>55</td>\n",
       "      <td>90.0</td>\n",
       "      <td>2.0</td>\n",
       "      <td>22.5</td>\n",
       "    </tr>\n",
       "  </tbody>\n",
       "</table>\n",
       "</div>"
      ],
      "text/plain": [
       "      id edad   peso estaturas        mci\n",
       "299  299   28  109.3       1.3  64.674556\n",
       "281  281   38   94.5       1.6  36.914062\n",
       "924  924   65   50.8       1.8  15.679012\n",
       "87    87   75   71.2       1.3  42.130178\n",
       "146  146   55   90.0       2.0       22.5"
      ]
     },
     "execution_count": 6,
     "metadata": {},
     "output_type": "execute_result"
    }
   ],
   "source": [
    "df = pd.DataFrame()\n",
    "df['id'] = id_person\n",
    "df['edad'] = insert_nan(edades, 10)\n",
    "df['peso'] = insert_nan(pesos, 10)\n",
    "df['estaturas'] = insert_nan(estaturas, 10)\n",
    "df['mci'] = insert_nan(mcis, 10)\n",
    "df.sample(5)"
   ]
  },
  {
   "cell_type": "markdown",
   "id": "46aab0d8",
   "metadata": {
    "slideshow": {
     "slide_type": "slide"
    }
   },
   "source": [
    "# Metodos para tratar con valores Faltantes\n",
    "1. **Ignorar o Descartar los datos**"
   ]
  },
  {
   "cell_type": "code",
   "execution_count": 19,
   "id": "85256d44",
   "metadata": {
    "slideshow": {
     "slide_type": "fragment"
    }
   },
   "outputs": [
    {
     "data": {
      "text/html": [
       "<div>\n",
       "<style scoped>\n",
       "    .dataframe tbody tr th:only-of-type {\n",
       "        vertical-align: middle;\n",
       "    }\n",
       "\n",
       "    .dataframe tbody tr th {\n",
       "        vertical-align: top;\n",
       "    }\n",
       "\n",
       "    .dataframe thead th {\n",
       "        text-align: right;\n",
       "    }\n",
       "</style>\n",
       "<table border=\"1\" class=\"dataframe\">\n",
       "  <thead>\n",
       "    <tr style=\"text-align: right;\">\n",
       "      <th></th>\n",
       "      <th>id</th>\n",
       "      <th>edad</th>\n",
       "      <th>peso</th>\n",
       "      <th>estaturas</th>\n",
       "      <th>mci</th>\n",
       "      <th>Class</th>\n",
       "      <th>Label</th>\n",
       "    </tr>\n",
       "  </thead>\n",
       "  <tbody>\n",
       "    <tr>\n",
       "      <th>3</th>\n",
       "      <td>3</td>\n",
       "      <td>17</td>\n",
       "      <td>NaN</td>\n",
       "      <td>1.3</td>\n",
       "      <td>47.100592</td>\n",
       "      <td>True</td>\n",
       "      <td>1</td>\n",
       "    </tr>\n",
       "    <tr>\n",
       "      <th>23</th>\n",
       "      <td>23</td>\n",
       "      <td>76</td>\n",
       "      <td>NaN</td>\n",
       "      <td>1.0</td>\n",
       "      <td>80.5</td>\n",
       "      <td>True</td>\n",
       "      <td>1</td>\n",
       "    </tr>\n",
       "    <tr>\n",
       "      <th>181</th>\n",
       "      <td>181</td>\n",
       "      <td>15</td>\n",
       "      <td>NaN</td>\n",
       "      <td>1.0</td>\n",
       "      <td>48.4</td>\n",
       "      <td>True</td>\n",
       "      <td>1</td>\n",
       "    </tr>\n",
       "    <tr>\n",
       "      <th>252</th>\n",
       "      <td>252</td>\n",
       "      <td>44</td>\n",
       "      <td>NaN</td>\n",
       "      <td>1.5</td>\n",
       "      <td>49.822222</td>\n",
       "      <td>True</td>\n",
       "      <td>1</td>\n",
       "    </tr>\n",
       "    <tr>\n",
       "      <th>353</th>\n",
       "      <td>353</td>\n",
       "      <td>22</td>\n",
       "      <td>NaN</td>\n",
       "      <td>1.1</td>\n",
       "      <td>97.933884</td>\n",
       "      <td>True</td>\n",
       "      <td>1</td>\n",
       "    </tr>\n",
       "    <tr>\n",
       "      <th>393</th>\n",
       "      <td>393</td>\n",
       "      <td>77</td>\n",
       "      <td>NaN</td>\n",
       "      <td>1.7</td>\n",
       "      <td>31.314879</td>\n",
       "      <td>True</td>\n",
       "      <td>1</td>\n",
       "    </tr>\n",
       "    <tr>\n",
       "      <th>448</th>\n",
       "      <td>448</td>\n",
       "      <td>55</td>\n",
       "      <td>NaN</td>\n",
       "      <td>1.3</td>\n",
       "      <td>47.514793</td>\n",
       "      <td>True</td>\n",
       "      <td>1</td>\n",
       "    </tr>\n",
       "    <tr>\n",
       "      <th>786</th>\n",
       "      <td>786</td>\n",
       "      <td>14</td>\n",
       "      <td>NaN</td>\n",
       "      <td>1.9</td>\n",
       "      <td>24.570637</td>\n",
       "      <td>False</td>\n",
       "      <td>0</td>\n",
       "    </tr>\n",
       "    <tr>\n",
       "      <th>787</th>\n",
       "      <td>787</td>\n",
       "      <td>52</td>\n",
       "      <td>NaN</td>\n",
       "      <td>1.4</td>\n",
       "      <td>41.377551</td>\n",
       "      <td>True</td>\n",
       "      <td>1</td>\n",
       "    </tr>\n",
       "    <tr>\n",
       "      <th>906</th>\n",
       "      <td>906</td>\n",
       "      <td>31</td>\n",
       "      <td>NaN</td>\n",
       "      <td>1.2</td>\n",
       "      <td>50.416667</td>\n",
       "      <td>True</td>\n",
       "      <td>1</td>\n",
       "    </tr>\n",
       "  </tbody>\n",
       "</table>\n",
       "</div>"
      ],
      "text/plain": [
       "      id edad peso estaturas        mci  Class  Label\n",
       "3      3   17  NaN       1.3  47.100592   True      1\n",
       "23    23   76  NaN       1.0       80.5   True      1\n",
       "181  181   15  NaN       1.0       48.4   True      1\n",
       "252  252   44  NaN       1.5  49.822222   True      1\n",
       "353  353   22  NaN       1.1  97.933884   True      1\n",
       "393  393   77  NaN       1.7  31.314879   True      1\n",
       "448  448   55  NaN       1.3  47.514793   True      1\n",
       "786  786   14  NaN       1.9  24.570637  False      0\n",
       "787  787   52  NaN       1.4  41.377551   True      1\n",
       "906  906   31  NaN       1.2  50.416667   True      1"
      ]
     },
     "execution_count": 19,
     "metadata": {},
     "output_type": "execute_result"
    }
   ],
   "source": [
    "df[df['peso'].isnull()]"
   ]
  },
  {
   "cell_type": "markdown",
   "id": "0a4aa619",
   "metadata": {
    "slideshow": {
     "slide_type": "slide"
    }
   },
   "source": [
    "# Metodos para tratar con valores Faltantes\n",
    "1. Ignorar o Descartar los datos\n",
    "2. **Estimacion de parametros**\n",
    "\n",
    "<i><p style='{ font-family: Arial; font-size: 20px;}'>\n",
    "Fuente: Batista, G. E., & Monard, M. C. (2003). An analysis of four missing data treatment methods for supervised learning. Applied artificial intelligence, 17(5-6), 519-533.\n",
    "</p></i>"
   ]
  },
  {
   "cell_type": "markdown",
   "id": "6ed66b87",
   "metadata": {
    "slideshow": {
     "slide_type": "slide"
    }
   },
   "source": [
    "# Metodos para tratar con valores Faltantes\n",
    "1. Ignorar o Descartar los datos\n",
    "2. Estimacion de parametros\n",
    "3. **Imputación**\n",
    "    - Susticion: Por ejemplo reemplazar una persona que no puede ser contactada por otra que si haya dado su numero de contacto\n",
    "    - Media o Moda\n",
    "    - Hot Deck y Cold Deck: Particionar los datos en clusters. Luego cada instancia con valores faltantes es asignada a algun cluster. Finalmente, se reemplaza con la media o moda.\n",
    "    - Modelo predictivo: Consiste en ajustar un modelo predictivo para estimar valores faltantes.\n",
    "    \n",
    "<i><p style='{ font-family: Arial; font-size: 20px;}'>\n",
    "Fuente: Batista, G. E., & Monard, M. C. (2003). An analysis of four missing data treatment methods for supervised learning. Applied artificial intelligence, 17(5-6), 519-533.\n",
    "</p></i>"
   ]
  },
  {
   "cell_type": "code",
   "execution_count": 7,
   "id": "76c4b1e8",
   "metadata": {
    "slideshow": {
     "slide_type": "slide"
    }
   },
   "outputs": [
    {
     "data": {
      "text/html": [
       "<div>\n",
       "<style scoped>\n",
       "    .dataframe tbody tr th:only-of-type {\n",
       "        vertical-align: middle;\n",
       "    }\n",
       "\n",
       "    .dataframe tbody tr th {\n",
       "        vertical-align: top;\n",
       "    }\n",
       "\n",
       "    .dataframe thead th {\n",
       "        text-align: right;\n",
       "    }\n",
       "</style>\n",
       "<table border=\"1\" class=\"dataframe\">\n",
       "  <thead>\n",
       "    <tr style=\"text-align: right;\">\n",
       "      <th></th>\n",
       "      <th>id</th>\n",
       "      <th>edad</th>\n",
       "      <th>peso</th>\n",
       "      <th>estaturas</th>\n",
       "      <th>mci</th>\n",
       "    </tr>\n",
       "  </thead>\n",
       "  <tbody>\n",
       "    <tr>\n",
       "      <th>0</th>\n",
       "      <td>0.0</td>\n",
       "      <td>27.0</td>\n",
       "      <td>99.40</td>\n",
       "      <td>1.9</td>\n",
       "      <td>27.534626</td>\n",
       "    </tr>\n",
       "    <tr>\n",
       "      <th>1</th>\n",
       "      <td>1.0</td>\n",
       "      <td>58.0</td>\n",
       "      <td>54.90</td>\n",
       "      <td>1.3</td>\n",
       "      <td>32.485207</td>\n",
       "    </tr>\n",
       "    <tr>\n",
       "      <th>2</th>\n",
       "      <td>2.0</td>\n",
       "      <td>44.0</td>\n",
       "      <td>61.70</td>\n",
       "      <td>1.9</td>\n",
       "      <td>17.091413</td>\n",
       "    </tr>\n",
       "    <tr>\n",
       "      <th>3</th>\n",
       "      <td>3.0</td>\n",
       "      <td>17.0</td>\n",
       "      <td>68.75</td>\n",
       "      <td>1.3</td>\n",
       "      <td>47.100592</td>\n",
       "    </tr>\n",
       "    <tr>\n",
       "      <th>4</th>\n",
       "      <td>4.0</td>\n",
       "      <td>56.0</td>\n",
       "      <td>51.90</td>\n",
       "      <td>1.6</td>\n",
       "      <td>20.273437</td>\n",
       "    </tr>\n",
       "    <tr>\n",
       "      <th>...</th>\n",
       "      <td>...</td>\n",
       "      <td>...</td>\n",
       "      <td>...</td>\n",
       "      <td>...</td>\n",
       "      <td>...</td>\n",
       "    </tr>\n",
       "    <tr>\n",
       "      <th>995</th>\n",
       "      <td>995.0</td>\n",
       "      <td>8.0</td>\n",
       "      <td>44.90</td>\n",
       "      <td>1.2</td>\n",
       "      <td>31.180556</td>\n",
       "    </tr>\n",
       "    <tr>\n",
       "      <th>996</th>\n",
       "      <td>996.0</td>\n",
       "      <td>56.0</td>\n",
       "      <td>39.00</td>\n",
       "      <td>1.3</td>\n",
       "      <td>23.076923</td>\n",
       "    </tr>\n",
       "    <tr>\n",
       "      <th>997</th>\n",
       "      <td>997.0</td>\n",
       "      <td>26.0</td>\n",
       "      <td>65.10</td>\n",
       "      <td>1.3</td>\n",
       "      <td>38.520710</td>\n",
       "    </tr>\n",
       "    <tr>\n",
       "      <th>998</th>\n",
       "      <td>998.0</td>\n",
       "      <td>55.0</td>\n",
       "      <td>67.80</td>\n",
       "      <td>1.2</td>\n",
       "      <td>47.083333</td>\n",
       "    </tr>\n",
       "    <tr>\n",
       "      <th>999</th>\n",
       "      <td>999.0</td>\n",
       "      <td>12.0</td>\n",
       "      <td>84.60</td>\n",
       "      <td>1.5</td>\n",
       "      <td>37.600000</td>\n",
       "    </tr>\n",
       "  </tbody>\n",
       "</table>\n",
       "<p>1000 rows × 5 columns</p>\n",
       "</div>"
      ],
      "text/plain": [
       "        id  edad   peso  estaturas        mci\n",
       "0      0.0  27.0  99.40        1.9  27.534626\n",
       "1      1.0  58.0  54.90        1.3  32.485207\n",
       "2      2.0  44.0  61.70        1.9  17.091413\n",
       "3      3.0  17.0  68.75        1.3  47.100592\n",
       "4      4.0  56.0  51.90        1.6  20.273437\n",
       "..     ...   ...    ...        ...        ...\n",
       "995  995.0   8.0  44.90        1.2  31.180556\n",
       "996  996.0  56.0  39.00        1.3  23.076923\n",
       "997  997.0  26.0  65.10        1.3  38.520710\n",
       "998  998.0  55.0  67.80        1.2  47.083333\n",
       "999  999.0  12.0  84.60        1.5  37.600000\n",
       "\n",
       "[1000 rows x 5 columns]"
      ]
     },
     "execution_count": 7,
     "metadata": {},
     "output_type": "execute_result"
    }
   ],
   "source": [
    "from sklearn.impute import KNNImputer\n",
    "\n",
    "imputer = KNNImputer(n_neighbors=2, weights=\"uniform\")\n",
    "r = imputer.fit_transform(df)\n",
    "df2 = pd.DataFrame(r)\n",
    "df2.columns = df.columns\n",
    "df2"
   ]
  },
  {
   "cell_type": "markdown",
   "id": "0599039e",
   "metadata": {
    "slideshow": {
     "slide_type": "fragment"
    }
   },
   "source": [
    "https://scikit-learn.org/stable/modules/impute.html"
   ]
  },
  {
   "cell_type": "markdown",
   "id": "ec356d80",
   "metadata": {
    "slideshow": {
     "slide_type": "slide"
    }
   },
   "source": [
    "# Preprocesamiento \n",
    "\n",
    "### Formatear las etiquetas"
   ]
  },
  {
   "cell_type": "code",
   "execution_count": 9,
   "id": "d1641e8a",
   "metadata": {
    "slideshow": {
     "slide_type": "fragment"
    }
   },
   "outputs": [
    {
     "data": {
      "text/html": [
       "<div>\n",
       "<style scoped>\n",
       "    .dataframe tbody tr th:only-of-type {\n",
       "        vertical-align: middle;\n",
       "    }\n",
       "\n",
       "    .dataframe tbody tr th {\n",
       "        vertical-align: top;\n",
       "    }\n",
       "\n",
       "    .dataframe thead th {\n",
       "        text-align: right;\n",
       "    }\n",
       "</style>\n",
       "<table border=\"1\" class=\"dataframe\">\n",
       "  <thead>\n",
       "    <tr style=\"text-align: right;\">\n",
       "      <th></th>\n",
       "      <th>id</th>\n",
       "      <th>edad</th>\n",
       "      <th>peso</th>\n",
       "      <th>estaturas</th>\n",
       "      <th>mci</th>\n",
       "      <th>Class</th>\n",
       "    </tr>\n",
       "  </thead>\n",
       "  <tbody>\n",
       "    <tr>\n",
       "      <th>0</th>\n",
       "      <td>0</td>\n",
       "      <td>27</td>\n",
       "      <td>99.4</td>\n",
       "      <td>1.9</td>\n",
       "      <td>27.534626</td>\n",
       "      <td>False</td>\n",
       "    </tr>\n",
       "    <tr>\n",
       "      <th>1</th>\n",
       "      <td>1</td>\n",
       "      <td>NaN</td>\n",
       "      <td>54.9</td>\n",
       "      <td>1.3</td>\n",
       "      <td>32.485207</td>\n",
       "      <td>True</td>\n",
       "    </tr>\n",
       "    <tr>\n",
       "      <th>2</th>\n",
       "      <td>2</td>\n",
       "      <td>44</td>\n",
       "      <td>61.7</td>\n",
       "      <td>1.9</td>\n",
       "      <td>17.091413</td>\n",
       "      <td>False</td>\n",
       "    </tr>\n",
       "    <tr>\n",
       "      <th>3</th>\n",
       "      <td>3</td>\n",
       "      <td>17</td>\n",
       "      <td>NaN</td>\n",
       "      <td>1.3</td>\n",
       "      <td>47.100592</td>\n",
       "      <td>True</td>\n",
       "    </tr>\n",
       "    <tr>\n",
       "      <th>4</th>\n",
       "      <td>4</td>\n",
       "      <td>56</td>\n",
       "      <td>51.9</td>\n",
       "      <td>1.6</td>\n",
       "      <td>20.273437</td>\n",
       "      <td>False</td>\n",
       "    </tr>\n",
       "  </tbody>\n",
       "</table>\n",
       "</div>"
      ],
      "text/plain": [
       "   id edad  peso estaturas        mci  Class\n",
       "0   0   27  99.4       1.9  27.534626  False\n",
       "1   1  NaN  54.9       1.3  32.485207   True\n",
       "2   2   44  61.7       1.9  17.091413  False\n",
       "3   3   17   NaN       1.3  47.100592   True\n",
       "4   4   56  51.9       1.6  20.273437  False"
      ]
     },
     "execution_count": 9,
     "metadata": {},
     "output_type": "execute_result"
    }
   ],
   "source": [
    "df['Class'] = df['mci'] > 30\n",
    "df.head()"
   ]
  },
  {
   "cell_type": "code",
   "execution_count": 10,
   "id": "53d02c61",
   "metadata": {
    "slideshow": {
     "slide_type": "fragment"
    }
   },
   "outputs": [],
   "source": [
    "from sklearn import preprocessing\n",
    "le = preprocessing.LabelEncoder()\n",
    "labels = le.fit_transform(df['Class'])\n",
    "df['Label'] = labels"
   ]
  },
  {
   "cell_type": "markdown",
   "id": "2965f4dd",
   "metadata": {
    "slideshow": {
     "slide_type": "slide"
    }
   },
   "source": [
    "## One-hot encoding"
   ]
  },
  {
   "cell_type": "code",
   "execution_count": 11,
   "id": "6d86964f",
   "metadata": {
    "slideshow": {
     "slide_type": "fragment"
    }
   },
   "outputs": [
    {
     "data": {
      "text/html": [
       "<div>\n",
       "<style scoped>\n",
       "    .dataframe tbody tr th:only-of-type {\n",
       "        vertical-align: middle;\n",
       "    }\n",
       "\n",
       "    .dataframe tbody tr th {\n",
       "        vertical-align: top;\n",
       "    }\n",
       "\n",
       "    .dataframe thead th {\n",
       "        text-align: right;\n",
       "    }\n",
       "</style>\n",
       "<table border=\"1\" class=\"dataframe\">\n",
       "  <thead>\n",
       "    <tr style=\"text-align: right;\">\n",
       "      <th></th>\n",
       "      <th>id</th>\n",
       "      <th>edad</th>\n",
       "      <th>peso</th>\n",
       "      <th>estaturas</th>\n",
       "      <th>mci</th>\n",
       "      <th>Class</th>\n",
       "      <th>Label</th>\n",
       "      <th>Normal</th>\n",
       "      <th>Sobrepeso</th>\n",
       "    </tr>\n",
       "  </thead>\n",
       "  <tbody>\n",
       "    <tr>\n",
       "      <th>0</th>\n",
       "      <td>0</td>\n",
       "      <td>27</td>\n",
       "      <td>99.4</td>\n",
       "      <td>1.9</td>\n",
       "      <td>27.534626</td>\n",
       "      <td>False</td>\n",
       "      <td>0</td>\n",
       "      <td>1</td>\n",
       "      <td>0</td>\n",
       "    </tr>\n",
       "    <tr>\n",
       "      <th>1</th>\n",
       "      <td>1</td>\n",
       "      <td>NaN</td>\n",
       "      <td>54.9</td>\n",
       "      <td>1.3</td>\n",
       "      <td>32.485207</td>\n",
       "      <td>True</td>\n",
       "      <td>1</td>\n",
       "      <td>0</td>\n",
       "      <td>1</td>\n",
       "    </tr>\n",
       "    <tr>\n",
       "      <th>2</th>\n",
       "      <td>2</td>\n",
       "      <td>44</td>\n",
       "      <td>61.7</td>\n",
       "      <td>1.9</td>\n",
       "      <td>17.091413</td>\n",
       "      <td>False</td>\n",
       "      <td>0</td>\n",
       "      <td>1</td>\n",
       "      <td>0</td>\n",
       "    </tr>\n",
       "  </tbody>\n",
       "</table>\n",
       "</div>"
      ],
      "text/plain": [
       "   id edad  peso estaturas        mci  Class  Label  Normal  Sobrepeso\n",
       "0   0   27  99.4       1.9  27.534626  False      0       1          0\n",
       "1   1  NaN  54.9       1.3  32.485207   True      1       0          1\n",
       "2   2   44  61.7       1.9  17.091413  False      0       1          0"
      ]
     },
     "execution_count": 11,
     "metadata": {},
     "output_type": "execute_result"
    }
   ],
   "source": [
    "onehot = pd.get_dummies(df['Label'])\n",
    "onehot.columns = ['Normal', 'Sobrepeso']\n",
    "df_nuevo = pd.concat([df, onehot], 1)\n",
    "df_nuevo.head(3)"
   ]
  },
  {
   "cell_type": "markdown",
   "id": "d36b4fba",
   "metadata": {
    "slideshow": {
     "slide_type": "slide"
    }
   },
   "source": [
    "# Normalizacion de datos"
   ]
  },
  {
   "cell_type": "code",
   "execution_count": 13,
   "id": "06f41276",
   "metadata": {
    "slideshow": {
     "slide_type": "slide"
    }
   },
   "outputs": [],
   "source": [
    "from sklearn.preprocessing import MinMaxScaler\n",
    "\n",
    "scaler = MinMaxScaler()\n",
    "df_normed = scaler.fit_transform(df2.iloc[:, 1:5])"
   ]
  },
  {
   "cell_type": "code",
   "execution_count": 14,
   "id": "70f5d0cf",
   "metadata": {
    "slideshow": {
     "slide_type": "slide"
    }
   },
   "outputs": [],
   "source": [
    "from sklearn.preprocessing import StandardScaler\n",
    "\n",
    "scaler = StandardScaler()\n",
    "df_standard = scaler.fit_transform(df2.iloc[:, 1:5])"
   ]
  },
  {
   "cell_type": "markdown",
   "id": "4b61f779",
   "metadata": {
    "slideshow": {
     "slide_type": "slide"
    }
   },
   "source": [
    "<center><img src=\"./figures/pipeline3.png\" width=1920 height=1080><center>\n"
   ]
  },
  {
   "cell_type": "markdown",
   "id": "b8a66c97",
   "metadata": {
    "slideshow": {
     "slide_type": "slide"
    }
   },
   "source": [
    "# Separar conjunto de entrenamiento"
   ]
  },
  {
   "cell_type": "markdown",
   "id": "cbcdc48c",
   "metadata": {
    "slideshow": {
     "slide_type": "fragment"
    }
   },
   "source": [
    "> Por que debemos dividir nuestro conjunto de entrenamiento?"
   ]
  },
  {
   "cell_type": "markdown",
   "id": "db4e1df7",
   "metadata": {
    "slideshow": {
     "slide_type": "fragment"
    }
   },
   "source": [
    "- **Train**: Ajustar Parametros\n",
    "- **Validacion**: Evaluar que tan bien generaliza el modelo durante el entrenamiento. Tambien nos permite definir criterios de convergencia en algoritmos de optimizacion iterativos.\n",
    "- **Test**: Evaluacion final de nuestro modelo sobre un conjunto de datos nunca antes observado"
   ]
  },
  {
   "cell_type": "code",
   "execution_count": 15,
   "id": "8ab547b6",
   "metadata": {
    "slideshow": {
     "slide_type": "slide"
    }
   },
   "outputs": [],
   "source": [
    "from sklearn.model_selection import train_test_split\n",
    "\n",
    "X = df_standard\n",
    "y = df['Label'].values"
   ]
  },
  {
   "cell_type": "code",
   "execution_count": 16,
   "id": "bb4a1804",
   "metadata": {
    "slideshow": {
     "slide_type": "fragment"
    }
   },
   "outputs": [
    {
     "name": "stdout",
     "output_type": "stream",
     "text": [
      "(670, 4) (670,)\n",
      "(330, 4) (330,)\n"
     ]
    }
   ],
   "source": [
    "X_train, X_test, y_train, y_test = train_test_split(X, y, test_size=0.33, random_state=42)\n",
    "print(X_train.shape, y_train.shape)\n",
    "print(X_test.shape, y_test.shape)"
   ]
  },
  {
   "cell_type": "markdown",
   "id": "2cf9180b",
   "metadata": {
    "slideshow": {
     "slide_type": "slide"
    }
   },
   "source": [
    "# Seleccion de Algoritmo"
   ]
  },
  {
   "cell_type": "markdown",
   "id": "d0646714",
   "metadata": {
    "slideshow": {
     "slide_type": "slide"
    }
   },
   "source": [
    "<center><img src=\"./figures/tabla_algoritmos.png\" width=1200 height=700><center>\n",
    "\n",
    "<i><p style='{ font-family: Arial; font-size: 12px;}'>\n",
    "Fuente: Kotsiantis, S. B., Zaharakis, I., & Pintelas, P. (2007). Supervised machine learning: A review of classification techniques. Emerging artificial intelligence applications in computer engineering, 160(1), 3-24.\n",
    "</p></i>"
   ]
  },
  {
   "cell_type": "code",
   "execution_count": 22,
   "id": "d8c646e6",
   "metadata": {
    "slideshow": {
     "slide_type": "slide"
    }
   },
   "outputs": [],
   "source": [
    "from sklearn.tree import DecisionTreeClassifier"
   ]
  },
  {
   "cell_type": "code",
   "execution_count": 23,
   "id": "7be630da",
   "metadata": {
    "slideshow": {
     "slide_type": "fragment"
    }
   },
   "outputs": [],
   "source": [
    "clf = DecisionTreeClassifier(random_state=1234)\n",
    "model = clf.fit(X_train, y_train)"
   ]
  },
  {
   "cell_type": "code",
   "execution_count": 24,
   "id": "264da1d4",
   "metadata": {
    "slideshow": {
     "slide_type": "slide"
    }
   },
   "outputs": [
    {
     "data": {
      "image/png": "[encoded data removed]",
      "text/plain": [
       "<Figure size 1080x720 with 1 Axes>"
      ]
     },
     "metadata": {
      "needs_background": "light"
     },
     "output_type": "display_data"
    }
   ],
   "source": [
    "import matplotlib.pyplot as plt\n",
    "from sklearn import tree\n",
    "\n",
    "fig = plt.figure(figsize=(15,10))\n",
    "_ = tree.plot_tree(clf, \n",
    "                   feature_names=df2.iloc[:, 1:5].columns,  \n",
    "                   filled=True)"
   ]
  },
  {
   "cell_type": "markdown",
   "id": "60ea46b8",
   "metadata": {
    "slideshow": {
     "slide_type": "slide"
    }
   },
   "source": [
    "### Metricas de evaluacion"
   ]
  },
  {
   "cell_type": "code",
   "execution_count": 25,
   "id": "70c2374d",
   "metadata": {
    "slideshow": {
     "slide_type": "fragment"
    }
   },
   "outputs": [
    {
     "data": {
      "text/plain": [
       "0.9787878787878788"
      ]
     },
     "execution_count": 25,
     "metadata": {},
     "output_type": "execute_result"
    }
   ],
   "source": [
    "from sklearn.metrics import accuracy_score\n",
    "y_pred = model.predict(X_test)\n",
    "accuracy_score(y_test, y_pred)"
   ]
  },
  {
   "cell_type": "code",
   "execution_count": 26,
   "id": "90dee344",
   "metadata": {
    "slideshow": {
     "slide_type": "fragment"
    }
   },
   "outputs": [
    {
     "name": "stdout",
     "output_type": "stream",
     "text": [
      "precision: 0.9780844155844156 recall: 0.9794110029967813 F1: 0.9786654352343569\n"
     ]
    }
   ],
   "source": [
    "from sklearn.metrics import precision_recall_fscore_support\n",
    "prec, recall, f1, _ = precision_recall_fscore_support(y_test, y_pred, average='macro')\n",
    "print('precision: {} recall: {} F1: {}'.format(prec, recall, f1))"
   ]
  },
  {
   "cell_type": "code",
   "execution_count": 27,
   "id": "49e16e3f",
   "metadata": {
    "slideshow": {
     "slide_type": "slide"
    }
   },
   "outputs": [],
   "source": [
    "from sklearn.metrics import confusion_matrix\n",
    "\n",
    "cm = confusion_matrix(y_test, y_pred)"
   ]
  },
  {
   "cell_type": "code",
   "execution_count": 30,
   "id": "e4d2217a",
   "metadata": {
    "slideshow": {
     "slide_type": "slide"
    }
   },
   "outputs": [],
   "source": [
    "import seaborn as sns\n",
    "\n",
    "\n",
    "def plot_cm(cm, ax, title='CM', cmap='Blues', fontsize=15, cbar=False, yticklabels=True, class_names=None):\n",
    "    '''\n",
    "    Plot Confusion Matrix\n",
    "    '''\n",
    "    labels = np.zeros_like(cm, dtype=np.object)\n",
    "    mask = np.ones_like(cm, dtype=np.bool)\n",
    "    for (row, col), value in np.ndenumerate(cm):\n",
    "        if value != 0.0:\n",
    "            mask[row][col] = False\n",
    "        if value < 0.01:\n",
    "            labels[row][col] = '< 1%'\n",
    "        else:\n",
    "            labels[row][col] = '{:2.1f}%'.format(value*100)\n",
    "\n",
    "    ax = sns.heatmap(cm, annot = cm, fmt = '2.2f',\n",
    "                     annot_kws={\"size\": fontsize},\n",
    "                     cbar=cbar,\n",
    "                     ax=ax,\n",
    "                     linecolor='white',\n",
    "                     linewidths=1,\n",
    "                     vmin=0, vmax=1,\n",
    "                     cmap=cmap,\n",
    "                     mask=mask,\n",
    "                     yticklabels=yticklabels)\n",
    "\n",
    "    if yticklabels and class_names is not None:\n",
    "        ax.set_yticklabels(class_names, rotation=0, fontsize=fontsize+1)\n",
    "\n",
    "    ax.set_title(title, fontsize=fontsize+2)\n",
    "\n",
    "    ax.axhline(y=0, color='k',linewidth=4)\n",
    "    ax.axhline(y=cm.shape[1], color='k',linewidth=4)\n",
    "    ax.axvline(x=0, color='k',linewidth=4)\n",
    "    ax.axvline(x=cm.shape[0], color='k',linewidth=4)\n",
    "\n",
    "    return ax"
   ]
  },
  {
   "cell_type": "code",
   "execution_count": 31,
   "id": "ac0cf227",
   "metadata": {
    "slideshow": {
     "slide_type": "slide"
    }
   },
   "outputs": [
    {
     "data": {
      "text/plain": [
       "<AxesSubplot:title={'center':'CM'}>"
      ]
     },
     "execution_count": 31,
     "metadata": {},
     "output_type": "execute_result"
    },
    {
     "data": {
      "image/png": "[encoded data removed]",
      "text/plain": [
       "<Figure size 432x288 with 1 Axes>"
      ]
     },
     "metadata": {
      "needs_background": "light"
     },
     "output_type": "display_data"
    }
   ],
   "source": [
    "from sklearn.metrics import confusion_matrix\n",
    "\n",
    "cm = confusion_matrix(y_test, y_pred)\n",
    "\n",
    "fig, ax = plt.subplots(1,1)\n",
    "cm = confusion_matrix(y_test, y_pred, normalize='true')\n",
    "plot_cm(cm, ax)"
   ]
  },
  {
   "cell_type": "markdown",
   "id": "c89576ee",
   "metadata": {
    "slideshow": {
     "slide_type": "slide"
    }
   },
   "source": [
    "# Busqueda de  Hiperparametros"
   ]
  },
  {
   "cell_type": "code",
   "execution_count": 75,
   "id": "10ff33c6",
   "metadata": {
    "slideshow": {
     "slide_type": "fragment"
    }
   },
   "outputs": [],
   "source": [
    "from sklearn.svm import SVC\n",
    "from sklearn.model_selection import GridSearchCV\n",
    "\n",
    "svc = SVC()"
   ]
  },
  {
   "cell_type": "code",
   "execution_count": 76,
   "id": "20fcbeba",
   "metadata": {
    "slideshow": {
     "slide_type": "fragment"
    }
   },
   "outputs": [],
   "source": [
    "parameters = {'kernel':('linear', 'rbf')}\n",
    "clf = GridSearchCV(svc, parameters)\n",
    "clf = clf.fit(X_train, y_train)"
   ]
  },
  {
   "cell_type": "code",
   "execution_count": 77,
   "id": "716f87db",
   "metadata": {
    "slideshow": {
     "slide_type": "fragment"
    }
   },
   "outputs": [
    {
     "name": "stdout",
     "output_type": "stream",
     "text": [
      "linear - 0.95 +- 0.02\n",
      "rbf - 0.95 +- 0.02\n"
     ]
    }
   ],
   "source": [
    "for k, m1, m2 in zip(clf.cv_results_['params'], clf.cv_results_['mean_test_score'], clf.cv_results_['std_test_score']):\n",
    "    print('{} - {:.2f} +- {:.2f}'.format(k['kernel'], m1, m2))"
   ]
  },
  {
   "cell_type": "markdown",
   "id": "f6a0aebb",
   "metadata": {
    "slideshow": {
     "slide_type": "slide"
    }
   },
   "source": [
    "# Cross Validation"
   ]
  },
  {
   "cell_type": "markdown",
   "id": "af50e95e",
   "metadata": {
    "slideshow": {
     "slide_type": "fragment"
    }
   },
   "source": [
    "La Validacion Cruzada (o cross-validation) es una tecnica de testing en aprendizaje automatico, la cual nos permite evaluar (estadisticamente) la capacidad de generalizacion de nuestros modelos."
   ]
  },
  {
   "cell_type": "markdown",
   "id": "9375c507",
   "metadata": {
    "slideshow": {
     "slide_type": "fragment"
    }
   },
   "source": [
    "<center><img src=\"./figures/xval.png\" width=1280 height=720><center>\n",
    "\n",
    "<i><p style='{ font-family: Arial; font-size: 12px;}'>\n",
    "https://commons.wikimedia.org/wiki/File:K-fold_cross_validation_EN.svg\n",
    "</p></i>"
   ]
  },
  {
   "cell_type": "markdown",
   "id": "a8bf26e9",
   "metadata": {
    "slideshow": {
     "slide_type": "slide"
    }
   },
   "source": [
    "https://scikit-learn.org/stable/modules/cross_validation.html"
   ]
  },
  {
   "cell_type": "code",
   "execution_count": 81,
   "id": "cd49323e",
   "metadata": {
    "slideshow": {
     "slide_type": "slide"
    }
   },
   "outputs": [
    {
     "name": "stdout",
     "output_type": "stream",
     "text": [
      "(500, 4)\n",
      "(500, 4)\n"
     ]
    }
   ],
   "source": [
    "from sklearn.model_selection import KFold\n",
    "\n",
    "# Data\n",
    "X = df_standard\n",
    "y = df['Label'].values\n",
    "\n",
    "kf = KFold(n_splits=2)\n",
    "for train, test in kf.split(X):\n",
    "    X_train, y_train = X[train], y[train]\n",
    "    X_test, y_test = X[test], y[test]\n",
    "    print(X_train.shape)\n",
    "    # Entrenar el modelo\n",
    "    # ----\n",
    "    # Evaluar el modelo\n",
    "    # ----\n",
    "    # Guardar metricas"
   ]
  },
  {
   "cell_type": "markdown",
   "id": "dcbfe00a",
   "metadata": {
    "slideshow": {
     "slide_type": "slide"
    }
   },
   "source": [
    "# Recursos Extra"
   ]
  },
  {
   "cell_type": "markdown",
   "id": "1f035343",
   "metadata": {
    "slideshow": {
     "slide_type": "fragment"
    }
   },
   "source": [
    "https://github.com/cridonoso/IntroToDataScience/tree/master/5-Classification"
   ]
  }
 ],
 "metadata": {
  "celltoolbar": "Slideshow",
  "kernelspec": {
   "display_name": "Python 3",
   "language": "python",
   "name": "python3"
  },
  "language_info": {
   "codemirror_mode": {
    "name": "ipython",
    "version": 3
   },
   "file_extension": ".py",
   "mimetype": "text/x-python",
   "name": "python",
   "nbconvert_exporter": "python",
   "pygments_lexer": "ipython3",
   "version": "3.8.8"
  }
 },
 "nbformat": 4,
 "nbformat_minor": 5
}
