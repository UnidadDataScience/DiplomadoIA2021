{
 "cells": [
  {
   "cell_type": "markdown",
   "id": "d0122660",
   "metadata": {
    "slideshow": {
     "slide_type": "slide"
    }
   },
   "source": [
    "# Aprendizaje Supervisado\n",
    "#### Cristobal Donoso\n",
    "##### 26 Junio de 2021"
   ]
  },
  {
   "cell_type": "markdown",
   "id": "cdf4adee",
   "metadata": {
    "slideshow": {
     "slide_type": "slide"
    }
   },
   "source": [
    "<center><img src=\"./figures/pipeline.png\" width=1920 height=1080><center>\n"
   ]
  },
  {
   "cell_type": "markdown",
   "id": "745b61aa",
   "metadata": {
    "slideshow": {
     "slide_type": "slide"
    }
   },
   "source": [
    "<center><img src=\"./figures/pipeline2.png\" width=1920 height=1080><center>\n"
   ]
  },
  {
   "cell_type": "markdown",
   "id": "1b3b4bd4",
   "metadata": {
    "slideshow": {
     "slide_type": "slide"
    }
   },
   "source": [
    "<center><img src=\"./figures/pipeline3.png\" width=1920 height=1080><center>\n"
   ]
  },
  {
   "cell_type": "markdown",
   "id": "76b0043e",
   "metadata": {
    "slideshow": {
     "slide_type": "slide"
    }
   },
   "source": [
    "# Identificar los datos necesarios\n",
    "\n",
    "- Conocimiento Experto: Caracteristicas o atributos\n",
    "- Simulaciones -> [(series de tiempo)](https://github.com/TimeSynth/TimeSynth)\n",
    "- WebScrapping -> [(tutorial aqui)](https://github.com/cridonoso/IntroToDataScience/blob/master/3-WebScraping/webScraping.ipynb)\n",
    "- Fuerza Bruta - _no recomendado (Zhang et al., 2002)_"
   ]
  },
  {
   "cell_type": "markdown",
   "id": "fbb3bda5",
   "metadata": {
    "slideshow": {
     "slide_type": "slide"
    }
   },
   "source": [
    "# Preprocesamiento\n",
    "## Datos faltantes o Missing values\n",
    "\n",
    "<center><img src=\"./figures/missingtypes.png\" width=1920 height=1080><center>\n",
    "\n",
    "<i><p style='{ font-family: Arial; font-size: 20px;}'>\n",
    "Little, R. J. A., & Rubin, D. R. (1987).Statistical analysis with missing data. New York: John Wiley & Sons.\n",
    "</p></i>"
   ]
  },
  {
   "cell_type": "markdown",
   "id": "04ae9c35",
   "metadata": {
    "slideshow": {
     "slide_type": "slide"
    }
   },
   "source": [
    "# Ejercicios\n",
    "## 1. Identifique el tipo de Valor Faltante \n",
    "\n",
    "\n",
    ">Se extrae una muestra aleatoria desde una poblacion de personas (todos con igual probabilidad de ser elegidos). Debido a que seleccionamos un subconjunto de la poblacion parte de la informacion no sera observada.\n",
    "\n"
   ]
  },
  {
   "cell_type": "markdown",
   "id": "e46a049d",
   "metadata": {
    "slideshow": {
     "slide_type": "slide"
    }
   },
   "source": [
    "# Ejercicios\n",
    "## 2. Identifique el tipo de Valor Faltante \n",
    "\n",
    "\n",
    "> El procentaje de aprobacion de cierta autoridad, desarrollada por el grupo de amigos de la autoridad, resultaron  positivos pese a las numerosas protestas que incluyen al 90% de la poblacion.\n"
   ]
  },
  {
   "cell_type": "markdown",
   "id": "51ee7abb",
   "metadata": {
    "slideshow": {
     "slide_type": "slide"
    }
   },
   "source": [
    "# Ejercicios\n",
    "## 3. Identifique el tipo de Valor Faltante \n",
    "\n",
    "\n",
    "> Quien trasladaba las muestras de PCR aplicados a un grupo de ancianos en la comuna de Loncoche tropieza con un gato que perseguia a un grillo. Dos muestras se pierden despues del accidente.\n",
    "\n"
   ]
  },
  {
   "cell_type": "markdown",
   "id": "04e0e1ab",
   "metadata": {
    "slideshow": {
     "slide_type": "slide"
    }
   },
   "source": [
    "# Ejercicios\n",
    "## 4. Identifique el tipo de Valor Faltante \n",
    "\n",
    "\n",
    "> Cierta persona no se presento a dar el examen de conducir puesto que contrajo COVID-19.\n",
    "\n"
   ]
  },
  {
   "cell_type": "markdown",
   "id": "cfe604d9",
   "metadata": {
    "slideshow": {
     "slide_type": "slide"
    }
   },
   "source": [
    "# Como lidiar con valores faltantes\n",
    "\n",
    "\n",
    "\n"
   ]
  },
  {
   "cell_type": "markdown",
   "id": "548d68d1",
   "metadata": {
    "slideshow": {
     "slide_type": "slide"
    }
   },
   "source": [
    "### Generando datos"
   ]
  },
  {
   "cell_type": "code",
   "execution_count": 11,
   "id": "f6dc4322",
   "metadata": {
    "slideshow": {
     "slide_type": "fragment"
    }
   },
   "outputs": [],
   "source": [
    "import pandas as pd \n",
    "import numpy as np\n",
    "\n",
    "N = 1000\n",
    "id_person = np.arange(N)\n",
    "edades = np.random.randint(5, 80, N)\n",
    "pesos = np.round(np.random.uniform(30, 120, N), 1)\n",
    "estaturas = np.round(np.random.uniform(1, 2, N), 1)\n",
    "mcis = pesos/np.power(estaturas, 2)"
   ]
  },
  {
   "cell_type": "code",
   "execution_count": 12,
   "id": "47dc70e8",
   "metadata": {
    "slideshow": {
     "slide_type": "fragment"
    }
   },
   "outputs": [],
   "source": [
    "def insert_nan(lista, n=2):\n",
    "    lista = lista.astype(object)\n",
    "    lista[np.random.randint(0, len(lista), n)] = np.nan\n",
    "    return lista"
   ]
  },
  {
   "cell_type": "code",
   "execution_count": 18,
   "id": "0ebe062e",
   "metadata": {
    "slideshow": {
     "slide_type": "subslide"
    }
   },
   "outputs": [
    {
     "data": {
      "text/html": [
       "<div>\n",
       "<style scoped>\n",
       "    .dataframe tbody tr th:only-of-type {\n",
       "        vertical-align: middle;\n",
       "    }\n",
       "\n",
       "    .dataframe tbody tr th {\n",
       "        vertical-align: top;\n",
       "    }\n",
       "\n",
       "    .dataframe thead th {\n",
       "        text-align: right;\n",
       "    }\n",
       "</style>\n",
       "<table border=\"1\" class=\"dataframe\">\n",
       "  <thead>\n",
       "    <tr style=\"text-align: right;\">\n",
       "      <th></th>\n",
       "      <th>id</th>\n",
       "      <th>edad</th>\n",
       "      <th>peso</th>\n",
       "      <th>estaturas</th>\n",
       "      <th>mci</th>\n",
       "    </tr>\n",
       "  </thead>\n",
       "  <tbody>\n",
       "    <tr>\n",
       "      <th>845</th>\n",
       "      <td>845</td>\n",
       "      <td>15</td>\n",
       "      <td>86.5</td>\n",
       "      <td>1.7</td>\n",
       "      <td>29.930796</td>\n",
       "    </tr>\n",
       "    <tr>\n",
       "      <th>299</th>\n",
       "      <td>299</td>\n",
       "      <td>72</td>\n",
       "      <td>NaN</td>\n",
       "      <td>1.3</td>\n",
       "      <td>43.668639</td>\n",
       "    </tr>\n",
       "    <tr>\n",
       "      <th>880</th>\n",
       "      <td>880</td>\n",
       "      <td>77</td>\n",
       "      <td>35.9</td>\n",
       "      <td>1.5</td>\n",
       "      <td>15.955556</td>\n",
       "    </tr>\n",
       "    <tr>\n",
       "      <th>99</th>\n",
       "      <td>99</td>\n",
       "      <td>55</td>\n",
       "      <td>34.5</td>\n",
       "      <td>1.2</td>\n",
       "      <td>23.958333</td>\n",
       "    </tr>\n",
       "    <tr>\n",
       "      <th>55</th>\n",
       "      <td>55</td>\n",
       "      <td>45</td>\n",
       "      <td>62.2</td>\n",
       "      <td>1.6</td>\n",
       "      <td>24.296875</td>\n",
       "    </tr>\n",
       "    <tr>\n",
       "      <th>909</th>\n",
       "      <td>909</td>\n",
       "      <td>31</td>\n",
       "      <td>108.1</td>\n",
       "      <td>1.4</td>\n",
       "      <td>55.153061</td>\n",
       "    </tr>\n",
       "    <tr>\n",
       "      <th>138</th>\n",
       "      <td>138</td>\n",
       "      <td>78</td>\n",
       "      <td>118.4</td>\n",
       "      <td>1.2</td>\n",
       "      <td>82.222222</td>\n",
       "    </tr>\n",
       "    <tr>\n",
       "      <th>251</th>\n",
       "      <td>251</td>\n",
       "      <td>59</td>\n",
       "      <td>99.3</td>\n",
       "      <td>1.2</td>\n",
       "      <td>68.958333</td>\n",
       "    </tr>\n",
       "    <tr>\n",
       "      <th>976</th>\n",
       "      <td>976</td>\n",
       "      <td>42</td>\n",
       "      <td>112.6</td>\n",
       "      <td>1.3</td>\n",
       "      <td>66.627219</td>\n",
       "    </tr>\n",
       "    <tr>\n",
       "      <th>182</th>\n",
       "      <td>182</td>\n",
       "      <td>15</td>\n",
       "      <td>43.2</td>\n",
       "      <td>1.4</td>\n",
       "      <td>22.040816</td>\n",
       "    </tr>\n",
       "  </tbody>\n",
       "</table>\n",
       "</div>"
      ],
      "text/plain": [
       "      id edad   peso estaturas        mci\n",
       "845  845   15   86.5       1.7  29.930796\n",
       "299  299   72    NaN       1.3  43.668639\n",
       "880  880   77   35.9       1.5  15.955556\n",
       "99    99   55   34.5       1.2  23.958333\n",
       "55    55   45   62.2       1.6  24.296875\n",
       "909  909   31  108.1       1.4  55.153061\n",
       "138  138   78  118.4       1.2  82.222222\n",
       "251  251   59   99.3       1.2  68.958333\n",
       "976  976   42  112.6       1.3  66.627219\n",
       "182  182   15   43.2       1.4  22.040816"
      ]
     },
     "execution_count": 18,
     "metadata": {},
     "output_type": "execute_result"
    }
   ],
   "source": [
    "df = pd.DataFrame()\n",
    "df['id'] = id_person\n",
    "df['edad'] = insert_nan(edades, 10)\n",
    "df['peso'] = insert_nan(pesos, 10)\n",
    "df['estaturas'] = insert_nan(estaturas, 10)\n",
    "df['mci'] = insert_nan(mcis, 10)\n",
    "df.sample(10)"
   ]
  },
  {
   "cell_type": "markdown",
   "id": "46aab0d8",
   "metadata": {
    "slideshow": {
     "slide_type": "slide"
    }
   },
   "source": [
    "# Metodos para tratar con valores Faltantes\n",
    "1. **Ignorar o Descartar los datos**"
   ]
  },
  {
   "cell_type": "code",
   "execution_count": 26,
   "id": "85256d44",
   "metadata": {
    "slideshow": {
     "slide_type": "fragment"
    }
   },
   "outputs": [
    {
     "data": {
      "text/html": [
       "<div>\n",
       "<style scoped>\n",
       "    .dataframe tbody tr th:only-of-type {\n",
       "        vertical-align: middle;\n",
       "    }\n",
       "\n",
       "    .dataframe tbody tr th {\n",
       "        vertical-align: top;\n",
       "    }\n",
       "\n",
       "    .dataframe thead th {\n",
       "        text-align: right;\n",
       "    }\n",
       "</style>\n",
       "<table border=\"1\" class=\"dataframe\">\n",
       "  <thead>\n",
       "    <tr style=\"text-align: right;\">\n",
       "      <th></th>\n",
       "      <th>id</th>\n",
       "      <th>edad</th>\n",
       "      <th>peso</th>\n",
       "      <th>estaturas</th>\n",
       "      <th>mci</th>\n",
       "    </tr>\n",
       "  </thead>\n",
       "  <tbody>\n",
       "    <tr>\n",
       "      <th>445</th>\n",
       "      <td>445</td>\n",
       "      <td>50</td>\n",
       "      <td>35.3</td>\n",
       "      <td>1.3</td>\n",
       "      <td>20.887574</td>\n",
       "    </tr>\n",
       "    <tr>\n",
       "      <th>324</th>\n",
       "      <td>324</td>\n",
       "      <td>79</td>\n",
       "      <td>40.8</td>\n",
       "      <td>1.1</td>\n",
       "      <td>33.719008</td>\n",
       "    </tr>\n",
       "  </tbody>\n",
       "</table>\n",
       "</div>"
      ],
      "text/plain": [
       "      id edad  peso estaturas        mci\n",
       "445  445   50  35.3       1.3  20.887574\n",
       "324  324   79  40.8       1.1  33.719008"
      ]
     },
     "execution_count": 26,
     "metadata": {},
     "output_type": "execute_result"
    }
   ],
   "source": [
    "df.isna().any()\n",
    "\n",
    "condicion = df['estaturas'].isnull()\n",
    "df[~condicion].sample(2)"
   ]
  },
  {
   "cell_type": "markdown",
   "id": "0a4aa619",
   "metadata": {
    "slideshow": {
     "slide_type": "slide"
    }
   },
   "source": [
    "# Metodos para tratar con valores Faltantes\n",
    "1. Ignorar o Descartar los datos\n",
    "2. **Estimacion de parametros**\n",
    "\n",
    "<i><p style='{ font-family: Arial; font-size: 20px;}'>\n",
    "Fuente: Batista, G. E., & Monard, M. C. (2003). An analysis of four missing data treatment methods for supervised learning. Applied artificial intelligence, 17(5-6), 519-533.\n",
    "</p></i>"
   ]
  },
  {
   "cell_type": "markdown",
   "id": "6ed66b87",
   "metadata": {
    "slideshow": {
     "slide_type": "slide"
    }
   },
   "source": [
    "# Metodos para tratar con valores Faltantes\n",
    "1. Ignorar o Descartar los datos\n",
    "2. Estimacion de parametros\n",
    "3. **Imputación**\n",
    "    - Susticion: Por ejemplo reemplazar una persona que no puede ser contactada por otra que si haya dado su numero de contacto\n",
    "    - Media o Moda\n",
    "    - Hot Deck y Cold Deck: Particionar los datos en clusters. Luego cada instancia con valores faltantes es asignada a algun cluster. Finalmente, se reemplaza con la media o moda.\n",
    "    - Modelo predictivo: Consiste en ajustar un modelo predictivo para estimar valores faltantes.\n",
    "    \n",
    "<i><p style='{ font-family: Arial; font-size: 20px;}'>\n",
    "Fuente: Batista, G. E., & Monard, M. C. (2003). An analysis of four missing data treatment methods for supervised learning. Applied artificial intelligence, 17(5-6), 519-533.\n",
    "</p></i>"
   ]
  },
  {
   "cell_type": "code",
   "execution_count": 64,
   "id": "76c4b1e8",
   "metadata": {
    "slideshow": {
     "slide_type": "slide"
    }
   },
   "outputs": [
    {
     "name": "stdout",
     "output_type": "stream",
     "text": [
      "id           False\n",
      "edad          True\n",
      "peso          True\n",
      "estaturas     True\n",
      "mci           True\n",
      "Class        False\n",
      "Label        False\n",
      "dtype: bool\n",
      "False\n"
     ]
    }
   ],
   "source": [
    "from sklearn.impute import KNNImputer\n",
    "\n",
    "imputer = KNNImputer(n_neighbors=2, weights=\"uniform\")\n",
    "\n",
    "df_1 = df.iloc[:100]\n",
    "df_2 = df.iloc[100:]\n",
    "\n",
    "imputer = imputer.fit(df_1)\n",
    "\n",
    "df_3 = imputer.transform(df_2)\n",
    "\n",
    "r = imputer.fit_transform(df)\n",
    "\n",
    "df2 = pd.DataFrame(r)\n",
    "df2.columns = df.columns\n",
    "df2\n",
    "print(df_2.isna().any())\n",
    "print(np.isnan(df_3).any())"
   ]
  },
  {
   "cell_type": "markdown",
   "id": "0599039e",
   "metadata": {
    "slideshow": {
     "slide_type": "fragment"
    }
   },
   "source": [
    "https://scikit-learn.org/stable/modules/impute.html"
   ]
  },
  {
   "cell_type": "markdown",
   "id": "ec356d80",
   "metadata": {
    "slideshow": {
     "slide_type": "slide"
    }
   },
   "source": [
    "# Preprocesamiento \n",
    "\n",
    "### Formatear las etiquetas"
   ]
  },
  {
   "cell_type": "code",
   "execution_count": 43,
   "id": "d1641e8a",
   "metadata": {
    "slideshow": {
     "slide_type": "fragment"
    }
   },
   "outputs": [
    {
     "data": {
      "text/html": [
       "<div>\n",
       "<style scoped>\n",
       "    .dataframe tbody tr th:only-of-type {\n",
       "        vertical-align: middle;\n",
       "    }\n",
       "\n",
       "    .dataframe tbody tr th {\n",
       "        vertical-align: top;\n",
       "    }\n",
       "\n",
       "    .dataframe thead th {\n",
       "        text-align: right;\n",
       "    }\n",
       "</style>\n",
       "<table border=\"1\" class=\"dataframe\">\n",
       "  <thead>\n",
       "    <tr style=\"text-align: right;\">\n",
       "      <th></th>\n",
       "      <th>id</th>\n",
       "      <th>edad</th>\n",
       "      <th>peso</th>\n",
       "      <th>estaturas</th>\n",
       "      <th>mci</th>\n",
       "      <th>Class</th>\n",
       "    </tr>\n",
       "  </thead>\n",
       "  <tbody>\n",
       "    <tr>\n",
       "      <th>0</th>\n",
       "      <td>0</td>\n",
       "      <td>9</td>\n",
       "      <td>35.5</td>\n",
       "      <td>1.1</td>\n",
       "      <td>29.338843</td>\n",
       "      <td>False</td>\n",
       "    </tr>\n",
       "    <tr>\n",
       "      <th>1</th>\n",
       "      <td>1</td>\n",
       "      <td>71</td>\n",
       "      <td>46.3</td>\n",
       "      <td>1.4</td>\n",
       "      <td>23.622449</td>\n",
       "      <td>False</td>\n",
       "    </tr>\n",
       "    <tr>\n",
       "      <th>2</th>\n",
       "      <td>2</td>\n",
       "      <td>12</td>\n",
       "      <td>63.6</td>\n",
       "      <td>1.6</td>\n",
       "      <td>24.84375</td>\n",
       "      <td>False</td>\n",
       "    </tr>\n",
       "    <tr>\n",
       "      <th>3</th>\n",
       "      <td>3</td>\n",
       "      <td>31</td>\n",
       "      <td>105.4</td>\n",
       "      <td>1.3</td>\n",
       "      <td>62.366864</td>\n",
       "      <td>True</td>\n",
       "    </tr>\n",
       "    <tr>\n",
       "      <th>4</th>\n",
       "      <td>4</td>\n",
       "      <td>20</td>\n",
       "      <td>92.0</td>\n",
       "      <td>1.7</td>\n",
       "      <td>31.83391</td>\n",
       "      <td>True</td>\n",
       "    </tr>\n",
       "  </tbody>\n",
       "</table>\n",
       "</div>"
      ],
      "text/plain": [
       "   id edad   peso estaturas        mci  Class\n",
       "0   0    9   35.5       1.1  29.338843  False\n",
       "1   1   71   46.3       1.4  23.622449  False\n",
       "2   2   12   63.6       1.6   24.84375  False\n",
       "3   3   31  105.4       1.3  62.366864   True\n",
       "4   4   20   92.0       1.7   31.83391   True"
      ]
     },
     "execution_count": 43,
     "metadata": {},
     "output_type": "execute_result"
    }
   ],
   "source": [
    "df['Class'] = df['mci'] > 30\n",
    "df.head()"
   ]
  },
  {
   "cell_type": "code",
   "execution_count": 48,
   "id": "53d02c61",
   "metadata": {
    "slideshow": {
     "slide_type": "fragment"
    }
   },
   "outputs": [
    {
     "data": {
      "text/html": [
       "<div>\n",
       "<style scoped>\n",
       "    .dataframe tbody tr th:only-of-type {\n",
       "        vertical-align: middle;\n",
       "    }\n",
       "\n",
       "    .dataframe tbody tr th {\n",
       "        vertical-align: top;\n",
       "    }\n",
       "\n",
       "    .dataframe thead th {\n",
       "        text-align: right;\n",
       "    }\n",
       "</style>\n",
       "<table border=\"1\" class=\"dataframe\">\n",
       "  <thead>\n",
       "    <tr style=\"text-align: right;\">\n",
       "      <th></th>\n",
       "      <th>id</th>\n",
       "      <th>edad</th>\n",
       "      <th>peso</th>\n",
       "      <th>estaturas</th>\n",
       "      <th>mci</th>\n",
       "      <th>Class</th>\n",
       "      <th>Label</th>\n",
       "    </tr>\n",
       "  </thead>\n",
       "  <tbody>\n",
       "    <tr>\n",
       "      <th>308</th>\n",
       "      <td>308</td>\n",
       "      <td>15</td>\n",
       "      <td>117.2</td>\n",
       "      <td>1.5</td>\n",
       "      <td>52.088889</td>\n",
       "      <td>True</td>\n",
       "      <td>1</td>\n",
       "    </tr>\n",
       "    <tr>\n",
       "      <th>981</th>\n",
       "      <td>981</td>\n",
       "      <td>10</td>\n",
       "      <td>90.9</td>\n",
       "      <td>1.5</td>\n",
       "      <td>40.4</td>\n",
       "      <td>True</td>\n",
       "      <td>1</td>\n",
       "    </tr>\n",
       "    <tr>\n",
       "      <th>746</th>\n",
       "      <td>746</td>\n",
       "      <td>68</td>\n",
       "      <td>56.9</td>\n",
       "      <td>1.4</td>\n",
       "      <td>29.030612</td>\n",
       "      <td>False</td>\n",
       "      <td>0</td>\n",
       "    </tr>\n",
       "  </tbody>\n",
       "</table>\n",
       "</div>"
      ],
      "text/plain": [
       "      id edad   peso estaturas        mci  Class  Label\n",
       "308  308   15  117.2       1.5  52.088889   True      1\n",
       "981  981   10   90.9       1.5       40.4   True      1\n",
       "746  746   68   56.9       1.4  29.030612  False      0"
      ]
     },
     "execution_count": 48,
     "metadata": {},
     "output_type": "execute_result"
    }
   ],
   "source": [
    "from sklearn import preprocessing\n",
    "\n",
    "le = preprocessing.LabelEncoder()\n",
    "labels = le.fit_transform(df['Class'])\n",
    "\n",
    "df['Label'] = labels\n",
    "df.sample(3)"
   ]
  },
  {
   "cell_type": "markdown",
   "id": "2965f4dd",
   "metadata": {
    "slideshow": {
     "slide_type": "slide"
    }
   },
   "source": [
    "## One-hot encoding"
   ]
  },
  {
   "cell_type": "code",
   "execution_count": 62,
   "id": "6d86964f",
   "metadata": {
    "slideshow": {
     "slide_type": "fragment"
    }
   },
   "outputs": [
    {
     "data": {
      "text/html": [
       "<div>\n",
       "<style scoped>\n",
       "    .dataframe tbody tr th:only-of-type {\n",
       "        vertical-align: middle;\n",
       "    }\n",
       "\n",
       "    .dataframe tbody tr th {\n",
       "        vertical-align: top;\n",
       "    }\n",
       "\n",
       "    .dataframe thead th {\n",
       "        text-align: right;\n",
       "    }\n",
       "</style>\n",
       "<table border=\"1\" class=\"dataframe\">\n",
       "  <thead>\n",
       "    <tr style=\"text-align: right;\">\n",
       "      <th></th>\n",
       "      <th>id</th>\n",
       "      <th>edad</th>\n",
       "      <th>peso</th>\n",
       "      <th>estaturas</th>\n",
       "      <th>mci</th>\n",
       "      <th>Class</th>\n",
       "      <th>Label</th>\n",
       "      <th>Normal</th>\n",
       "      <th>Sobrepeso</th>\n",
       "    </tr>\n",
       "  </thead>\n",
       "  <tbody>\n",
       "    <tr>\n",
       "      <th>328</th>\n",
       "      <td>328</td>\n",
       "      <td>36</td>\n",
       "      <td>51.8</td>\n",
       "      <td>1.2</td>\n",
       "      <td>35.972222</td>\n",
       "      <td>True</td>\n",
       "      <td>1</td>\n",
       "      <td>0</td>\n",
       "      <td>1</td>\n",
       "    </tr>\n",
       "    <tr>\n",
       "      <th>71</th>\n",
       "      <td>71</td>\n",
       "      <td>32</td>\n",
       "      <td>77.6</td>\n",
       "      <td>2.0</td>\n",
       "      <td>19.4</td>\n",
       "      <td>False</td>\n",
       "      <td>0</td>\n",
       "      <td>1</td>\n",
       "      <td>0</td>\n",
       "    </tr>\n",
       "    <tr>\n",
       "      <th>324</th>\n",
       "      <td>324</td>\n",
       "      <td>79</td>\n",
       "      <td>40.8</td>\n",
       "      <td>1.1</td>\n",
       "      <td>33.719008</td>\n",
       "      <td>True</td>\n",
       "      <td>1</td>\n",
       "      <td>0</td>\n",
       "      <td>1</td>\n",
       "    </tr>\n",
       "  </tbody>\n",
       "</table>\n",
       "</div>"
      ],
      "text/plain": [
       "      id edad  peso estaturas        mci  Class  Label  Normal  Sobrepeso\n",
       "328  328   36  51.8       1.2  35.972222   True      1       0          1\n",
       "71    71   32  77.6       2.0       19.4  False      0       1          0\n",
       "324  324   79  40.8       1.1  33.719008   True      1       0          1"
      ]
     },
     "execution_count": 62,
     "metadata": {},
     "output_type": "execute_result"
    }
   ],
   "source": [
    "onehot = pd.get_dummies(df['Label'])\n",
    "\n",
    "onehot.columns = ['Normal', 'Sobrepeso']\n",
    "\n",
    "df_nuevo = pd.concat([df, onehot], 1) # anadir a columnas\n",
    "df_nuevo.sample(3)"
   ]
  },
  {
   "cell_type": "markdown",
   "id": "d36b4fba",
   "metadata": {
    "slideshow": {
     "slide_type": "slide"
    }
   },
   "source": [
    "# Normalizacion de datos"
   ]
  },
  {
   "cell_type": "code",
   "execution_count": 70,
   "id": "06f41276",
   "metadata": {
    "slideshow": {
     "slide_type": "slide"
    }
   },
   "outputs": [
    {
     "data": {
      "text/plain": [
       "array([[0.05405405, 0.06013363, 0.1       , 0.18912488],\n",
       "       [0.89189189, 0.18040089, 0.4       , 0.13736939],\n",
       "       [0.09459459, 0.37305122, 0.6       , 0.14842689],\n",
       "       ...,\n",
       "       [0.06756757, 0.14587973, 0.3       , 0.15493101],\n",
       "       [0.17567568, 0.26726058, 0.2       , 0.26364368],\n",
       "       [0.78378378, 0.05233853, 1.        , 0.00226347]])"
      ]
     },
     "execution_count": 70,
     "metadata": {},
     "output_type": "execute_result"
    }
   ],
   "source": [
    "from sklearn.preprocessing import MinMaxScaler\n",
    "\n",
    "# valor_normalizado_entre_0_y_1 = (valor - valor_min) / (valor_max - valor_min)\n",
    "\n",
    "scaler = MinMaxScaler()\n",
    "df_normed = scaler.fit_transform(df2.iloc[:, 1:5])\n",
    "df_normed"
   ]
  },
  {
   "cell_type": "code",
   "execution_count": 72,
   "id": "70f5d0cf",
   "metadata": {
    "slideshow": {
     "slide_type": "slide"
    }
   },
   "outputs": [
    {
     "data": {
      "text/plain": [
       "array([[-1.60358343e+00, -1.56147867e+00, -1.40403320e+00,\n",
       "        -3.87105853e-01],\n",
       "       [ 1.34697962e+00, -1.14947852e+00, -3.94300585e-01,\n",
       "        -6.55032759e-01],\n",
       "       [-1.46081425e+00, -4.89515310e-01,  2.78854489e-01,\n",
       "        -5.97790482e-01],\n",
       "       ...,\n",
       "       [-1.55599370e+00, -1.26773782e+00, -7.30878122e-01,\n",
       "        -5.64120064e-01],\n",
       "       [-1.17527589e+00, -8.51922851e-01, -1.06745566e+00,\n",
       "        -1.33825351e-03],\n",
       "       [ 9.66261811e-01, -1.58818238e+00,  1.62516464e+00,\n",
       "        -1.35444669e+00]])"
      ]
     },
     "execution_count": 72,
     "metadata": {},
     "output_type": "execute_result"
    }
   ],
   "source": [
    "from sklearn.preprocessing import StandardScaler\n",
    "\n",
    "# value_z = (value - media) / std = 0.00001\n",
    "\n",
    "scaler = StandardScaler()\n",
    "df_standard = scaler.fit_transform(df2.iloc[:, 1:5])\n",
    "df_standard"
   ]
  },
  {
   "cell_type": "markdown",
   "id": "4b61f779",
   "metadata": {
    "slideshow": {
     "slide_type": "slide"
    }
   },
   "source": [
    "<center><img src=\"./figures/pipeline3.png\" width=1920 height=1080><center>\n"
   ]
  },
  {
   "cell_type": "markdown",
   "id": "b8a66c97",
   "metadata": {
    "slideshow": {
     "slide_type": "slide"
    }
   },
   "source": [
    "# Separar conjunto de entrenamiento"
   ]
  },
  {
   "cell_type": "markdown",
   "id": "cbcdc48c",
   "metadata": {
    "slideshow": {
     "slide_type": "fragment"
    }
   },
   "source": [
    "> Por que debemos dividir nuestro conjunto de entrenamiento?"
   ]
  },
  {
   "cell_type": "markdown",
   "id": "db4e1df7",
   "metadata": {
    "slideshow": {
     "slide_type": "fragment"
    }
   },
   "source": [
    "- **Train**: Ajustar Parametros\n",
    "- **Validacion**: Evaluar que tan bien generaliza el modelo durante el entrenamiento. Tambien nos permite definir criterios de convergencia en algoritmos de optimizacion iterativos.\n",
    "- **Test**: Evaluacion final de nuestro modelo sobre un conjunto de datos nunca antes observado"
   ]
  },
  {
   "cell_type": "code",
   "execution_count": 77,
   "id": "8ab547b6",
   "metadata": {
    "slideshow": {
     "slide_type": "slide"
    }
   },
   "outputs": [],
   "source": [
    "from sklearn.model_selection import train_test_split\n",
    "\n",
    "X = df_standard\n",
    "y = df['Label'].values\n"
   ]
  },
  {
   "cell_type": "code",
   "execution_count": 79,
   "id": "bb4a1804",
   "metadata": {
    "slideshow": {
     "slide_type": "fragment"
    }
   },
   "outputs": [
    {
     "name": "stdout",
     "output_type": "stream",
     "text": [
      "(500, 4) (500,)\n",
      "(250, 4) (250,)\n",
      "(250, 4) (250,)\n"
     ]
    }
   ],
   "source": [
    "X_train, X_rest, y_train, y_rest = train_test_split(X, y, test_size=0.5, random_state=42)\n",
    "X_val, X_test, y_val, y_test = train_test_split(X_rest, y_rest, test_size=0.5, random_state=42)\n",
    "\n",
    "print(X_train.shape, y_train.shape)\n",
    "print(X_test.shape, y_test.shape)\n",
    "print(X_val.shape, y_val.shape)"
   ]
  },
  {
   "cell_type": "markdown",
   "id": "2cf9180b",
   "metadata": {
    "slideshow": {
     "slide_type": "slide"
    }
   },
   "source": [
    "# Seleccion de Algoritmo"
   ]
  },
  {
   "cell_type": "markdown",
   "id": "d0646714",
   "metadata": {
    "slideshow": {
     "slide_type": "slide"
    }
   },
   "source": [
    "<center><img src=\"./figures/tabla_algoritmos.png\" width=1200 height=700><center>\n",
    "\n",
    "<i><p style='{ font-family: Arial; font-size: 12px;}'>\n",
    "Fuente: Kotsiantis, S. B., Zaharakis, I., & Pintelas, P. (2007). Supervised machine learning: A review of classification techniques. Emerging artificial intelligence applications in computer engineering, 160(1), 3-24.\n",
    "</p></i>"
   ]
  },
  {
   "cell_type": "code",
   "execution_count": 80,
   "id": "d8c646e6",
   "metadata": {
    "slideshow": {
     "slide_type": "slide"
    }
   },
   "outputs": [],
   "source": [
    "from sklearn.tree import DecisionTreeClassifier"
   ]
  },
  {
   "cell_type": "code",
   "execution_count": 81,
   "id": "7be630da",
   "metadata": {
    "slideshow": {
     "slide_type": "fragment"
    }
   },
   "outputs": [],
   "source": [
    "clf = DecisionTreeClassifier()\n",
    "\n",
    "model = clf.fit(X_train, y_train)"
   ]
  },
  {
   "cell_type": "code",
   "execution_count": 83,
   "id": "264da1d4",
   "metadata": {
    "slideshow": {
     "slide_type": "slide"
    }
   },
   "outputs": [
    {
     "data": {
      "image/png": "[encoded data removed]",
      "text/plain": [
       "<Figure size 1080x720 with 1 Axes>"
      ]
     },
     "metadata": {
      "needs_background": "light"
     },
     "output_type": "display_data"
    }
   ],
   "source": [
    "import matplotlib.pyplot as plt\n",
    "from sklearn import tree\n",
    "\n",
    "fig = plt.figure(figsize=(15,10))\n",
    "_ = tree.plot_tree(clf, \n",
    "                   feature_names=df2.iloc[:, 1:5].columns,  \n",
    "                   filled=True, max_depth=2\n",
    "                  )"
   ]
  },
  {
   "cell_type": "markdown",
   "id": "60ea46b8",
   "metadata": {
    "slideshow": {
     "slide_type": "slide"
    }
   },
   "source": [
    "### Metricas de evaluacion"
   ]
  },
  {
   "cell_type": "markdown",
   "id": "3928f818",
   "metadata": {},
   "source": [
    "<center><img src=\"./figures/prec_recall.png\" width=1920 height=1080><center>\n"
   ]
  },
  {
   "cell_type": "code",
   "execution_count": 84,
   "id": "70c2374d",
   "metadata": {
    "slideshow": {
     "slide_type": "slide"
    }
   },
   "outputs": [
    {
     "data": {
      "text/plain": [
       "0.984"
      ]
     },
     "execution_count": 84,
     "metadata": {},
     "output_type": "execute_result"
    }
   ],
   "source": [
    "from sklearn.metrics import accuracy_score\n",
    "y_pred = model.predict(X_test)\n",
    "accuracy_score(y_test, y_pred)"
   ]
  },
  {
   "cell_type": "code",
   "execution_count": 26,
   "id": "90dee344",
   "metadata": {
    "slideshow": {
     "slide_type": "slide"
    }
   },
   "outputs": [
    {
     "name": "stdout",
     "output_type": "stream",
     "text": [
      "precision: 0.9780844155844156 recall: 0.9794110029967813 F1: 0.9786654352343569\n"
     ]
    }
   ],
   "source": [
    "from sklearn.metrics import precision_recall_fscore_support\n",
    "\n",
    "prec, recall, f1, _ = precision_recall_fscore_support(y_test, y_pred, average='macro')\n",
    "\n",
    "print('precision: {} recall: {} F1: {}'.format(prec, recall, f1))"
   ]
  },
  {
   "cell_type": "code",
   "execution_count": 89,
   "id": "49e16e3f",
   "metadata": {
    "slideshow": {
     "slide_type": "slide"
    }
   },
   "outputs": [
    {
     "data": {
      "text/plain": [
       "array([[133,   0],\n",
       "       [  4, 113]])"
      ]
     },
     "execution_count": 89,
     "metadata": {},
     "output_type": "execute_result"
    }
   ],
   "source": [
    "from sklearn.metrics import confusion_matrix\n",
    "\n",
    "cm = confusion_matrix(y_test, y_pred)\n",
    "cm"
   ]
  },
  {
   "cell_type": "code",
   "execution_count": 90,
   "id": "e4d2217a",
   "metadata": {
    "slideshow": {
     "slide_type": "slide"
    }
   },
   "outputs": [],
   "source": [
    "import seaborn as sns\n",
    "\n",
    "\n",
    "def plot_cm(cm, ax, title='CM', cmap='Blues', fontsize=15, cbar=False, yticklabels=True, class_names=None):\n",
    "    '''\n",
    "    Plot Confusion Matrix\n",
    "    '''\n",
    "    labels = np.zeros_like(cm, dtype=np.object)\n",
    "    mask = np.ones_like(cm, dtype=np.bool)\n",
    "    for (row, col), value in np.ndenumerate(cm):\n",
    "        if value != 0.0:\n",
    "            mask[row][col] = False\n",
    "        if value < 0.01:\n",
    "            labels[row][col] = '< 1%'\n",
    "        else:\n",
    "            labels[row][col] = '{:2.1f}%'.format(value*100)\n",
    "\n",
    "    ax = sns.heatmap(cm, annot = cm, fmt = '2.2f',\n",
    "                     annot_kws={\"size\": fontsize},\n",
    "                     cbar=cbar,\n",
    "                     ax=ax,\n",
    "                     linecolor='white',\n",
    "                     linewidths=1,\n",
    "                     vmin=0, vmax=1,\n",
    "                     cmap=cmap,\n",
    "                     mask=mask,\n",
    "                     yticklabels=yticklabels)\n",
    "\n",
    "    if yticklabels and class_names is not None:\n",
    "        ax.set_yticklabels(class_names, rotation=0, fontsize=fontsize+1)\n",
    "\n",
    "    ax.set_title(title, fontsize=fontsize+2)\n",
    "\n",
    "    ax.axhline(y=0, color='k',linewidth=4)\n",
    "    ax.axhline(y=cm.shape[1], color='k',linewidth=4)\n",
    "    ax.axvline(x=0, color='k',linewidth=4)\n",
    "    ax.axvline(x=cm.shape[0], color='k',linewidth=4)\n",
    "\n",
    "    return ax"
   ]
  },
  {
   "cell_type": "code",
   "execution_count": 31,
   "id": "ac0cf227",
   "metadata": {
    "slideshow": {
     "slide_type": "slide"
    }
   },
   "outputs": [
    {
     "data": {
      "text/plain": [
       "<AxesSubplot:title={'center':'CM'}>"
      ]
     },
     "execution_count": 31,
     "metadata": {},
     "output_type": "execute_result"
    },
    {
     "data": {
      "image/png": "[encoded data removed]",
      "text/plain": [
       "<Figure size 432x288 with 1 Axes>"
      ]
     },
     "metadata": {
      "needs_background": "light"
     },
     "output_type": "display_data"
    }
   ],
   "source": [
    "from sklearn.metrics import confusion_matrix\n",
    "\n",
    "fig, ax = plt.subplots(1,1)\n",
    "cm = confusion_matrix(y_test, y_pred, normalize='true')\n",
    "plot_cm(cm, ax)"
   ]
  },
  {
   "cell_type": "markdown",
   "id": "c89576ee",
   "metadata": {
    "slideshow": {
     "slide_type": "slide"
    }
   },
   "source": [
    "# Busqueda de  Hiperparametros"
   ]
  },
  {
   "cell_type": "code",
   "execution_count": 1,
   "id": "10ff33c6",
   "metadata": {
    "slideshow": {
     "slide_type": "fragment"
    }
   },
   "outputs": [],
   "source": [
    "from sklearn.svm import SVC\n",
    "\n",
    "from sklearn.model_selection import GridSearchCV\n",
    "\n",
    "svc = SVC()"
   ]
  },
  {
   "cell_type": "code",
   "execution_count": 2,
   "id": "edbbc01c",
   "metadata": {},
   "outputs": [],
   "source": [
    "parameters = {'kernel':('linear', 'rbf')}"
   ]
  },
  {
   "cell_type": "code",
   "execution_count": 76,
   "id": "20fcbeba",
   "metadata": {
    "slideshow": {
     "slide_type": "fragment"
    }
   },
   "outputs": [],
   "source": [
    "clf = GridSearchCV(svc, parameters)\n",
    "\n",
    "clf = clf.fit(X_train, y_train)"
   ]
  },
  {
   "cell_type": "code",
   "execution_count": 77,
   "id": "716f87db",
   "metadata": {
    "slideshow": {
     "slide_type": "fragment"
    }
   },
   "outputs": [
    {
     "name": "stdout",
     "output_type": "stream",
     "text": [
      "linear - 0.95 +- 0.02\n",
      "rbf - 0.95 +- 0.02\n"
     ]
    }
   ],
   "source": [
    "for k, m1, m2 in zip(clf.cv_results_['params'], clf.cv_results_['mean_test_score'], clf.cv_results_['std_test_score']):\n",
    "    print('{} - {:.2f} +- {:.2f}'.format(k['kernel'], m1, m2))"
   ]
  },
  {
   "cell_type": "markdown",
   "id": "f6a0aebb",
   "metadata": {
    "slideshow": {
     "slide_type": "slide"
    }
   },
   "source": [
    "# Cross Validation"
   ]
  },
  {
   "cell_type": "markdown",
   "id": "af50e95e",
   "metadata": {
    "slideshow": {
     "slide_type": "fragment"
    }
   },
   "source": [
    "La Validacion Cruzada (o cross-validation) es una tecnica de testing en aprendizaje automatico, la cual nos permite evaluar (estadisticamente) la capacidad de generalizacion de nuestros modelos."
   ]
  },
  {
   "cell_type": "markdown",
   "id": "9375c507",
   "metadata": {
    "slideshow": {
     "slide_type": "fragment"
    }
   },
   "source": [
    "<center><img src=\"./figures/xval.png\" width=1280 height=720><center>\n",
    "\n",
    "<i><p style='{ font-family: Arial; font-size: 12px;}'>\n",
    "https://commons.wikimedia.org/wiki/File:K-fold_cross_validation_EN.svg\n",
    "</p></i>"
   ]
  },
  {
   "cell_type": "markdown",
   "id": "a8bf26e9",
   "metadata": {
    "slideshow": {
     "slide_type": "slide"
    }
   },
   "source": [
    "https://scikit-learn.org/stable/modules/cross_validation.html"
   ]
  },
  {
   "cell_type": "code",
   "execution_count": 81,
   "id": "cd49323e",
   "metadata": {
    "slideshow": {
     "slide_type": "slide"
    }
   },
   "outputs": [
    {
     "name": "stdout",
     "output_type": "stream",
     "text": [
      "(500, 4)\n",
      "(500, 4)\n"
     ]
    }
   ],
   "source": [
    "from sklearn.model_selection import KFold\n",
    "\n",
    "# Data\n",
    "X = df_standard\n",
    "y = df['Label'].values\n",
    "\n",
    "kf = KFold(n_splits=5)\n",
    "\n",
    "precision = []\n",
    "for train, test in kf.split(X):\n",
    "    X_train, y_train = X[train], y[train]\n",
    "    X_test, y_test = X[test], y[test]\n",
    "    print(X_train.shape)\n",
    "    # Entrenar el modelo\n",
    "    # ----\n",
    "    # Evaluar el modelo\n",
    "    prec_value = fn(y_test, y_pred)\n",
    "    # ----\n",
    "    # Guardar metricas\n",
    "    precision.append(prec_value)\n",
    "\n",
    "np.mean(precision)\n",
    "np.std(precision)"
   ]
  },
  {
   "cell_type": "markdown",
   "id": "dcbfe00a",
   "metadata": {
    "slideshow": {
     "slide_type": "slide"
    }
   },
   "source": [
    "# Recursos Extra"
   ]
  },
  {
   "cell_type": "markdown",
   "id": "1f035343",
   "metadata": {
    "slideshow": {
     "slide_type": "fragment"
    }
   },
   "source": [
    "https://github.com/cridonoso/IntroToDataScience/tree/master/5-Classification"
   ]
  }
 ],
 "metadata": {
  "celltoolbar": "Slideshow",
  "kernelspec": {
   "display_name": "Python 3",
   "language": "python",
   "name": "python3"
  },
  "language_info": {
   "codemirror_mode": {
    "name": "ipython",
    "version": 3
   },
   "file_extension": ".py",
   "mimetype": "text/x-python",
   "name": "python",
   "nbconvert_exporter": "python",
   "pygments_lexer": "ipython3",
   "version": "3.8.8"
  }
 },
 "nbformat": 4,
 "nbformat_minor": 5
}
