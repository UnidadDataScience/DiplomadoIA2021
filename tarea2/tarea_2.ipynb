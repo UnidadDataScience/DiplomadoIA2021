{
 "cells": [
  {
   "cell_type": "markdown",
   "id": "27c552e3",
   "metadata": {},
   "source": [
    "# Tarea 2: Aprendizaje no Supervisado"
   ]
  },
  {
   "cell_type": "code",
   "execution_count": 238,
   "id": "7bd2147f",
   "metadata": {},
   "outputs": [],
   "source": [
    "import matplotlib.pyplot as plt\n",
    "\n",
    "import pandas as pd\n",
    "import numpy as np\n",
    "\n",
    "from sklearn.metrics import silhouette_score"
   ]
  },
  {
   "cell_type": "markdown",
   "id": "a15df206",
   "metadata": {},
   "source": [
    "Usted acaba de conseguir trabajo en una viña muy prestigiosa en Chile. Se le ha encargado como primera tarea, recategorizar los vinos que alli se producen. Su reputacion y permanencia en la empresa depende de los resultados de este trabajo.\n",
    "\n",
    "En principio, usted no dispone de etiquetas y carece de conocimiento en enologia. Afortundamente, usted es experto en inteligencia artificial y decide abordar (convenientemente) este problema desde un punto de vista no supervisado.\n",
    "\n",
    "Asumiendo que el sabor y sensacion del vino se reducen a interacciones y propiedades quimicas, usted solicita al equipo de enologos una base de datos con los indicadores mas importantes segun la literatura."
   ]
  },
  {
   "cell_type": "markdown",
   "id": "fee40ea6",
   "metadata": {},
   "source": [
    "| Atributo | Descripcio |\n",
    "| --- | --- | \n",
    "|Alcohol| Grados de alcohol | \n",
    "|Malic_Acid| Acido málico | \n",
    "|Ash| Materia inorganica que permanece despues de la vaporacion del vino| \n",
    "|Ash_Alcanity| Alcalinidad de la sustancia | \n",
    "|Magnesium| Magnesio |\n",
    "|Total_Phenols| Fenoles totales | \n",
    "|Flavanoids| Flavonoide | \n",
    "|Nonflavanoid_Phenols| Fenoles no flavonoide|\n",
    "|Proanthocyanins| Proantocianidina| \n",
    "|Color_Intensity| Intesidad del color| \n",
    "|Hue| color o matiz | \n",
    "|OD280| medida de pureza en el vino| \n",
    "|Proline|Prolina |"
   ]
  },
  {
   "cell_type": "code",
   "execution_count": 230,
   "id": "9b1b049d",
   "metadata": {},
   "outputs": [
    {
     "data": {
      "text/html": [
       "<div>\n",
       "<style scoped>\n",
       "    .dataframe tbody tr th:only-of-type {\n",
       "        vertical-align: middle;\n",
       "    }\n",
       "\n",
       "    .dataframe tbody tr th {\n",
       "        vertical-align: top;\n",
       "    }\n",
       "\n",
       "    .dataframe thead th {\n",
       "        text-align: right;\n",
       "    }\n",
       "</style>\n",
       "<table border=\"1\" class=\"dataframe\">\n",
       "  <thead>\n",
       "    <tr style=\"text-align: right;\">\n",
       "      <th></th>\n",
       "      <th>Alcohol</th>\n",
       "      <th>Malic_Acid</th>\n",
       "      <th>Ash</th>\n",
       "      <th>Ash_Alcanity</th>\n",
       "      <th>Magnesium</th>\n",
       "      <th>Total_Phenols</th>\n",
       "      <th>Flavanoids</th>\n",
       "      <th>Nonflavanoid_Phenols</th>\n",
       "      <th>Proanthocyanins</th>\n",
       "      <th>Color_Intensity</th>\n",
       "      <th>Hue</th>\n",
       "      <th>OD280</th>\n",
       "      <th>Proline</th>\n",
       "    </tr>\n",
       "  </thead>\n",
       "  <tbody>\n",
       "    <tr>\n",
       "      <th>46</th>\n",
       "      <td>14.38</td>\n",
       "      <td>3.59</td>\n",
       "      <td>2.28</td>\n",
       "      <td>16.0</td>\n",
       "      <td>102</td>\n",
       "      <td>3.25</td>\n",
       "      <td>3.17</td>\n",
       "      <td>0.27</td>\n",
       "      <td>2.19</td>\n",
       "      <td>4.90</td>\n",
       "      <td>1.04</td>\n",
       "      <td>3.44</td>\n",
       "      <td>1065</td>\n",
       "    </tr>\n",
       "    <tr>\n",
       "      <th>2</th>\n",
       "      <td>13.16</td>\n",
       "      <td>2.36</td>\n",
       "      <td>2.67</td>\n",
       "      <td>18.6</td>\n",
       "      <td>101</td>\n",
       "      <td>2.80</td>\n",
       "      <td>3.24</td>\n",
       "      <td>0.30</td>\n",
       "      <td>2.81</td>\n",
       "      <td>5.68</td>\n",
       "      <td>1.03</td>\n",
       "      <td>3.17</td>\n",
       "      <td>1185</td>\n",
       "    </tr>\n",
       "  </tbody>\n",
       "</table>\n",
       "</div>"
      ],
      "text/plain": [
       "    Alcohol  Malic_Acid   Ash  Ash_Alcanity  Magnesium  Total_Phenols  \\\n",
       "46    14.38        3.59  2.28          16.0        102           3.25   \n",
       "2     13.16        2.36  2.67          18.6        101           2.80   \n",
       "\n",
       "    Flavanoids  Nonflavanoid_Phenols  Proanthocyanins  Color_Intensity   Hue  \\\n",
       "46        3.17                  0.27             2.19             4.90  1.04   \n",
       "2         3.24                  0.30             2.81             5.68  1.03   \n",
       "\n",
       "    OD280  Proline  \n",
       "46   3.44     1065  \n",
       "2    3.17     1185  "
      ]
     },
     "execution_count": 230,
     "metadata": {},
     "output_type": "execute_result"
    }
   ],
   "source": [
    "df = pd.read_csv('wine-clustering.csv')\n",
    "df.sample(2)"
   ]
  },
  {
   "cell_type": "markdown",
   "id": "d160fb7d",
   "metadata": {},
   "source": [
    "**1.- Realize una descripcion de los atributos**"
   ]
  },
  {
   "cell_type": "code",
   "execution_count": null,
   "id": "672360a7",
   "metadata": {},
   "outputs": [],
   "source": []
  },
  {
   "cell_type": "markdown",
   "id": "1d8213a7",
   "metadata": {},
   "source": [
    "**2. Entrena un algoritmo de clustering**: Ajuste un k-Means. Encuentre el mejor hiperparametro para el `numero de vecinos` basadonse en el [coeficiente de silhouette](https://scikit-learn.org/stable/modules/generated/sklearn.metrics.silhouette_score.html?highlight=silhouette_score#sklearn-metrics-silhouette-score)"
   ]
  },
  {
   "cell_type": "code",
   "execution_count": null,
   "id": "f90fd869",
   "metadata": {},
   "outputs": [],
   "source": []
  },
  {
   "cell_type": "code",
   "execution_count": null,
   "id": "c182414d",
   "metadata": {},
   "outputs": [],
   "source": []
  },
  {
   "cell_type": "code",
   "execution_count": null,
   "id": "6d7757dd",
   "metadata": {},
   "outputs": [],
   "source": []
  },
  {
   "cell_type": "markdown",
   "id": "8f191cf3",
   "metadata": {},
   "source": [
    "**3. Describa utilizando medidas de tendencia central cada cluster**"
   ]
  },
  {
   "cell_type": "code",
   "execution_count": null,
   "id": "38683070",
   "metadata": {},
   "outputs": [],
   "source": []
  },
  {
   "cell_type": "markdown",
   "id": "c43d8745",
   "metadata": {},
   "source": [
    "**4. Entrene un Random Forest utilizando las etiquetas encontradas**: El objetivo de probar este algoritmo es ver la importancia de las features segun cada cluster"
   ]
  },
  {
   "cell_type": "code",
   "execution_count": null,
   "id": "c632e9f9",
   "metadata": {},
   "outputs": [],
   "source": []
  },
  {
   "cell_type": "code",
   "execution_count": null,
   "id": "bb091988",
   "metadata": {},
   "outputs": [],
   "source": []
  },
  {
   "cell_type": "code",
   "execution_count": null,
   "id": "be0eedc0",
   "metadata": {},
   "outputs": [],
   "source": []
  },
  {
   "cell_type": "code",
   "execution_count": null,
   "id": "fe8fa8e0",
   "metadata": {},
   "outputs": [],
   "source": []
  },
  {
   "cell_type": "markdown",
   "id": "5c7fac6f",
   "metadata": {},
   "source": [
    "**4.1 Grafique la importancia de las caracteristicas**"
   ]
  },
  {
   "cell_type": "code",
   "execution_count": null,
   "id": "204467e1",
   "metadata": {},
   "outputs": [],
   "source": []
  },
  {
   "cell_type": "markdown",
   "id": "099bfc94",
   "metadata": {},
   "source": [
    "**4.2 Justifique la categorizacion utilizando las importancias**"
   ]
  },
  {
   "cell_type": "markdown",
   "id": "ee1134f1",
   "metadata": {},
   "source": []
  },
  {
   "cell_type": "markdown",
   "id": "b868a553",
   "metadata": {},
   "source": [
    "**5. Visualice los groupos encontrados en un grafico 2D**: Puede utilizar cualquier algoritmo de reduccion de dimensionalidad."
   ]
  },
  {
   "cell_type": "code",
   "execution_count": null,
   "id": "ac4a8d76",
   "metadata": {},
   "outputs": [],
   "source": []
  },
  {
   "cell_type": "code",
   "execution_count": null,
   "id": "ebe06071",
   "metadata": {},
   "outputs": [],
   "source": []
  },
  {
   "cell_type": "code",
   "execution_count": null,
   "id": "ff51b15e",
   "metadata": {},
   "outputs": [],
   "source": []
  },
  {
   "cell_type": "code",
   "execution_count": null,
   "id": "a498bd4f",
   "metadata": {},
   "outputs": [],
   "source": []
  }
 ],
 "metadata": {
  "kernelspec": {
   "display_name": "Python 3",
   "language": "python",
   "name": "python3"
  },
  "language_info": {
   "codemirror_mode": {
    "name": "ipython",
    "version": 3
   },
   "file_extension": ".py",
   "mimetype": "text/x-python",
   "name": "python",
   "nbconvert_exporter": "python",
   "pygments_lexer": "ipython3",
   "version": "3.8.8"
  }
 },
 "nbformat": 4,
 "nbformat_minor": 5
}
