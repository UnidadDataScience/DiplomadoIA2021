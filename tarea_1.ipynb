{
 "cells": [
  {
   "cell_type": "markdown",
   "id": "472bbd62",
   "metadata": {},
   "source": [
    "# Tarea 1"
   ]
  },
  {
   "cell_type": "code",
   "execution_count": 3,
   "id": "8ecb000a",
   "metadata": {},
   "outputs": [],
   "source": [
    "import pandas as pd"
   ]
  },
  {
   "cell_type": "markdown",
   "id": "c026aa27",
   "metadata": {},
   "source": [
    "## Problema 1: Clasificacion de Hongos\n",
    "\n",
    "Los hongos son organismos vivos pertenecientes al Reino Fungi. De manera similar a los seres humanos, los hongos sin iuncapaes de realizar la fotosintesis y se alimentan de hidratos de carbono ya elaborados [1](https://kataix.umag.cl/sib-aysen/hongusto/meet-fungi/). \n",
    "\n",
    "| Agaricus | Lepiota   |\n",
    "|---|---|\n",
    "| <img src=\"./figures/agaricus.jpg\" width=\"200\" height=\"200\">| <img src=\"./figures/lepiota.jpg\" width=\"210\" height=\"300\"> |\n",
    "\n",
    "Algunos de estos Hongos son comestibles, como el *Agaricus bisporus* (champiñón común). Sin embargo, dependiendo de ciertas caracteristicas como el color, tamaño y láminas, podemos identificar generos venenosos."
   ]
  },
  {
   "cell_type": "markdown",
   "id": "10a3edb1",
   "metadata": {},
   "source": [
    "El siguiente conjunto de datos incluye informacion descriptiva de 23 especies de hongos con branquias de la familia Agaricus y Lepiota. Cada especie se identifica como comestible (`e`) o venenosa (`p`)"
   ]
  },
  {
   "cell_type": "markdown",
   "id": "68333ac2",
   "metadata": {},
   "source": [
    "| atributo | valores   |\n",
    "|---|---|\n",
    "|Cap-shape | {x, b, s, f, k, c} |\n",
    "|Cap-surface | {s, y, f, g} |\n",
    "|Cap-color |{n, y, w, g, e, p, b, u, c, r} |\n",
    "|Bruises | {t, f} |\n",
    "|Odor | {p, a, l, n, f, c, y, s, m} |\n",
    "|Gill-attachment | {f, a, d, n} |\n",
    "|Gill-spacing | {c, w, d} |\n",
    "|Gill-size | {n, b} |\n",
    "|Gill-color | {k, n, g, p, w, h, u, e, b, r, y, o} |\n",
    "|Stalk-shape | {e, t} |\n",
    "|Stalk-root | {e, c, b, r, u, z} |\n",
    "|Stalk-surface-above-ring | {s, f, k, y} |\n",
    "|Stalk-surface-below-ring | {s, f, y, k} |\n",
    "|Stalk-color-above-ring | {w, g, p, n, b, e, o, c, y} |\n",
    "|Stalk-color-below-ring | {w, p, g, b, n, e, y, o, c} |\n",
    "|Veil-type | {p, u} |\n",
    "|Veil-color | {w, n, o, y} |\n",
    "|Ring-number | {o, t, n} |\n",
    "|Ring-type | {p, e, l, f, n, c, s, z} |\n",
    "|Spore-print-color | {k, n, u, h, w, r, o, y, b} |\n",
    "|Population | {s, n, a, v, y, c} |\n",
    "|Habitat | {u, g, m, d, p, w, l} |\n",
    "|Class | {p, e} |"
   ]
  },
  {
   "cell_type": "markdown",
   "id": "3fdcf551",
   "metadata": {},
   "source": []
  },
  {
   "cell_type": "code",
   "execution_count": 51,
   "id": "8f90752c",
   "metadata": {},
   "outputs": [
    {
     "data": {
      "text/html": [
       "<div>\n",
       "<style scoped>\n",
       "    .dataframe tbody tr th:only-of-type {\n",
       "        vertical-align: middle;\n",
       "    }\n",
       "\n",
       "    .dataframe tbody tr th {\n",
       "        vertical-align: top;\n",
       "    }\n",
       "\n",
       "    .dataframe thead th {\n",
       "        text-align: right;\n",
       "    }\n",
       "</style>\n",
       "<table border=\"1\" class=\"dataframe\">\n",
       "  <thead>\n",
       "    <tr style=\"text-align: right;\">\n",
       "      <th></th>\n",
       "      <th>Cap-shape</th>\n",
       "      <th>Cap-surface</th>\n",
       "      <th>Cap-color</th>\n",
       "      <th>Bruises</th>\n",
       "      <th>Odor</th>\n",
       "      <th>Gill-attachment</th>\n",
       "      <th>Gill-spacing</th>\n",
       "      <th>Gill-size</th>\n",
       "      <th>Gill-color</th>\n",
       "      <th>Stalk-shape</th>\n",
       "      <th>...</th>\n",
       "      <th>Stalk-color-above-ring</th>\n",
       "      <th>Stalk-color-below-ring</th>\n",
       "      <th>Veil-type</th>\n",
       "      <th>Veil-color</th>\n",
       "      <th>Ring-number</th>\n",
       "      <th>Ring-type</th>\n",
       "      <th>Spore-print-color</th>\n",
       "      <th>Population</th>\n",
       "      <th>Habitat</th>\n",
       "      <th>Class</th>\n",
       "    </tr>\n",
       "  </thead>\n",
       "  <tbody>\n",
       "    <tr>\n",
       "      <th>1384</th>\n",
       "      <td>f</td>\n",
       "      <td>s</td>\n",
       "      <td>g</td>\n",
       "      <td>f</td>\n",
       "      <td>n</td>\n",
       "      <td>f</td>\n",
       "      <td>w</td>\n",
       "      <td>b</td>\n",
       "      <td>h</td>\n",
       "      <td>t</td>\n",
       "      <td>...</td>\n",
       "      <td>w</td>\n",
       "      <td>w</td>\n",
       "      <td>p</td>\n",
       "      <td>w</td>\n",
       "      <td>o</td>\n",
       "      <td>e</td>\n",
       "      <td>k</td>\n",
       "      <td>a</td>\n",
       "      <td>g</td>\n",
       "      <td>e</td>\n",
       "    </tr>\n",
       "    <tr>\n",
       "      <th>4857</th>\n",
       "      <td>f</td>\n",
       "      <td>f</td>\n",
       "      <td>g</td>\n",
       "      <td>f</td>\n",
       "      <td>f</td>\n",
       "      <td>f</td>\n",
       "      <td>c</td>\n",
       "      <td>b</td>\n",
       "      <td>p</td>\n",
       "      <td>e</td>\n",
       "      <td>...</td>\n",
       "      <td>n</td>\n",
       "      <td>n</td>\n",
       "      <td>p</td>\n",
       "      <td>w</td>\n",
       "      <td>o</td>\n",
       "      <td>l</td>\n",
       "      <td>h</td>\n",
       "      <td>v</td>\n",
       "      <td>p</td>\n",
       "      <td>p</td>\n",
       "    </tr>\n",
       "    <tr>\n",
       "      <th>6286</th>\n",
       "      <td>f</td>\n",
       "      <td>y</td>\n",
       "      <td>e</td>\n",
       "      <td>f</td>\n",
       "      <td>f</td>\n",
       "      <td>f</td>\n",
       "      <td>c</td>\n",
       "      <td>n</td>\n",
       "      <td>b</td>\n",
       "      <td>t</td>\n",
       "      <td>...</td>\n",
       "      <td>w</td>\n",
       "      <td>p</td>\n",
       "      <td>p</td>\n",
       "      <td>w</td>\n",
       "      <td>o</td>\n",
       "      <td>e</td>\n",
       "      <td>w</td>\n",
       "      <td>v</td>\n",
       "      <td>d</td>\n",
       "      <td>p</td>\n",
       "    </tr>\n",
       "  </tbody>\n",
       "</table>\n",
       "<p>3 rows × 23 columns</p>\n",
       "</div>"
      ],
      "text/plain": [
       "     Cap-shape  Cap-surface  Cap-color  Bruises  Odor  Gill-attachment  \\\n",
       "1384         f            s          g        f     n                f   \n",
       "4857         f            f          g        f     f                f   \n",
       "6286         f            y          e        f     f                f   \n",
       "\n",
       "      Gill-spacing  Gill-size  Gill-color  Stalk-shape  ...  \\\n",
       "1384             w          b           h            t  ...   \n",
       "4857             c          b           p            e  ...   \n",
       "6286             c          n           b            t  ...   \n",
       "\n",
       "      Stalk-color-above-ring  Stalk-color-below-ring  Veil-type  Veil-color  \\\n",
       "1384                       w                       w          p           w   \n",
       "4857                       n                       n          p           w   \n",
       "6286                       w                       p          p           w   \n",
       "\n",
       "      Ring-number  Ring-type  Spore-print-color  Population  Habitat Class  \n",
       "1384            o          e                  k           a        g     e  \n",
       "4857            o          l                  h           v        p     p  \n",
       "6286            o          e                  w           v        d     p  \n",
       "\n",
       "[3 rows x 23 columns]"
      ]
     },
     "execution_count": 51,
     "metadata": {},
     "output_type": "execute_result"
    }
   ],
   "source": [
    "dataframe = pd.read_csv('./data/mushroom.dat')\n",
    "dataframe.sample(3)"
   ]
  },
  {
   "cell_type": "code",
   "execution_count": null,
   "id": "89f6dae0",
   "metadata": {},
   "outputs": [],
   "source": []
  },
  {
   "cell_type": "markdown",
   "id": "c7dd3606",
   "metadata": {},
   "source": [
    "#### 1.1 Grafique la distribucion de clases "
   ]
  },
  {
   "cell_type": "code",
   "execution_count": 17,
   "id": "21ee345c",
   "metadata": {},
   "outputs": [],
   "source": [
    "new_names = []\n",
    "for col in dataframe.columns:\n",
    "    col_sin_espacio = col.strip() # elimina los espacios en blanco al principio y al final de un string\n",
    "    new_names.append(col_sin_espacio)\n",
    "    \n",
    "dataframe.columns = new_names"
   ]
  },
  {
   "cell_type": "code",
   "execution_count": null,
   "id": "d7afbaa2",
   "metadata": {},
   "outputs": [],
   "source": []
  },
  {
   "cell_type": "markdown",
   "id": "94f720b1",
   "metadata": {},
   "source": [
    "#### 1.2 Identifique valores faltantes"
   ]
  },
  {
   "cell_type": "code",
   "execution_count": null,
   "id": "1f340de5",
   "metadata": {},
   "outputs": [],
   "source": []
  },
  {
   "cell_type": "code",
   "execution_count": 38,
   "id": "c36bd16c",
   "metadata": {},
   "outputs": [
    {
     "data": {
      "text/plain": [
       "Cap-shape                   True\n",
       "Cap-surface                 True\n",
       "Cap-color                   True\n",
       "Bruises                     True\n",
       "Odor                        True\n",
       "Gill-attachment             True\n",
       "Gill-spacing                True\n",
       "Gill-size                   True\n",
       "Gill-color                  True\n",
       "Stalk-shape                 True\n",
       "Stalk-root                  True\n",
       "Stalk-surface-above-ring    True\n",
       "Stalk-surface-below-ring    True\n",
       "Stalk-color-above-ring      True\n",
       "Stalk-color-below-ring      True\n",
       "Veil-type                   True\n",
       "Veil-color                  True\n",
       "Ring-number                 True\n",
       "Ring-type                   True\n",
       "Spore-print-color           True\n",
       "Population                  True\n",
       "Habitat                     True\n",
       "Class                       True\n",
       "dtype: bool"
      ]
     },
     "execution_count": 38,
     "metadata": {},
     "output_type": "execute_result"
    }
   ],
   "source": [
    "dataframe.isna().any()"
   ]
  },
  {
   "cell_type": "markdown",
   "id": "0500b0bc",
   "metadata": {},
   "source": [
    "#### 1.3 Preprocese los datos para entrenar un algoritmo de aprendizaje automatico"
   ]
  },
  {
   "cell_type": "code",
   "execution_count": 50,
   "id": "4f222fc1",
   "metadata": {},
   "outputs": [
    {
     "data": {
      "text/plain": [
       "0.031792975970425186"
      ]
     },
     "execution_count": 50,
     "metadata": {},
     "output_type": "execute_result"
    }
   ],
   "source": [
    "partial = df_sin_nan.dropna()\n",
    "\n",
    "1 - partial.shape[0]/df_sin_nan.shape[0]"
   ]
  },
  {
   "cell_type": "code",
   "execution_count": null,
   "id": "f8d706c3",
   "metadata": {},
   "outputs": [],
   "source": []
  },
  {
   "cell_type": "markdown",
   "id": "2bd58412",
   "metadata": {},
   "source": [
    "#### 1.4 Divida el conjunto de entrenamiento"
   ]
  },
  {
   "cell_type": "code",
   "execution_count": null,
   "id": "284313c8",
   "metadata": {},
   "outputs": [],
   "source": []
  },
  {
   "cell_type": "markdown",
   "id": "c17b2696",
   "metadata": {},
   "source": [
    "#### 1.5 Entrene el algoritmo"
   ]
  },
  {
   "cell_type": "code",
   "execution_count": null,
   "id": "247f02fc",
   "metadata": {},
   "outputs": [],
   "source": []
  },
  {
   "cell_type": "markdown",
   "id": "dcd21949",
   "metadata": {},
   "source": [
    "#### 1.5 Valide el algoritmo"
   ]
  },
  {
   "cell_type": "code",
   "execution_count": null,
   "id": "d72e7cad",
   "metadata": {},
   "outputs": [],
   "source": []
  },
  {
   "cell_type": "markdown",
   "id": "290312b6",
   "metadata": {},
   "source": [
    "#### 1.4 Concluya los resultados obtenidos"
   ]
  },
  {
   "cell_type": "code",
   "execution_count": null,
   "id": "46b7768a",
   "metadata": {},
   "outputs": [],
   "source": [
    "import pickle\n",
    "\n",
    "with open('mi_modelo.pkl', 'wb') as file:\n",
    "    pickle.dump(model, file)\n",
    "\n",
    "\n",
    "with open('mi_modelo.pkl', 'rb') as file:\n",
    "    model = pickle.load(file)"
   ]
  },
  {
   "cell_type": "markdown",
   "id": "f0d3f604",
   "metadata": {},
   "source": [
    "## Problema 2: Prediciendo la demanda de taxis en NYC\n",
    "\n",
    "En este problema, construiremos un modelo de regresion para predecir el numero de texis solicitados en la ciudad de Nueva York. Estos modelos suelen ser utiles, por ejemplo, para monitorear el traficio en la ciudad.\n",
    "\n",
    "Los datos para este problema se encuentran en el archivo `nyc_taxi.csv`. La primera columna indica la hora del dia en minutos, mientras que la segunda columna indica la cantidad de taxis que estan recogiendo pasajeros en ese momento.\n",
    "\n",
    "Se necesita un modelo que reciba la hora en minutos como predictor y prediga la demanda promedio de texis para ese momento del dia. Los modelos deben ser ajustados en el conjunto de entrenamiento y evaluados sobre el conjunto de test. Ademas, la metrica de evaluacion debe ser R2."
   ]
  },
  {
   "cell_type": "markdown",
   "id": "5a23b50d",
   "metadata": {},
   "source": [
    "#### 2.1 Cargue los datos y describa la distribucion de los atributos"
   ]
  },
  {
   "cell_type": "code",
   "execution_count": 53,
   "id": "557c2aab",
   "metadata": {},
   "outputs": [
    {
     "data": {
      "text/plain": [
       "(1250, 2)"
      ]
     },
     "execution_count": 53,
     "metadata": {},
     "output_type": "execute_result"
    }
   ],
   "source": [
    "data = pd.read_csv('./data/nyc_taxi.csv')\n",
    "data.shape"
   ]
  },
  {
   "cell_type": "markdown",
   "id": "6a5fb58c",
   "metadata": {},
   "source": [
    "#### 2.2 Separe el conjunto de entrenamiento "
   ]
  },
  {
   "cell_type": "code",
   "execution_count": null,
   "id": "a8b507eb",
   "metadata": {},
   "outputs": [],
   "source": []
  },
  {
   "cell_type": "markdown",
   "id": "84d5bf41",
   "metadata": {},
   "source": [
    "#### 2.3 Grafique el conjunto de entrenamiento utilizando un scatter plot "
   ]
  },
  {
   "cell_type": "code",
   "execution_count": 66,
   "id": "50196d82",
   "metadata": {},
   "outputs": [
    {
     "data": {
      "image/png": "[encoded data removed]",
      "text/plain": [
       "<Figure size 432x288 with 1 Axes>"
      ]
     },
     "metadata": {
      "needs_background": "light"
     },
     "output_type": "display_data"
    }
   ],
   "source": [
    "import matplotlib.pyplot as plt\n",
    "import numpy as np\n",
    "\n",
    "x = [1, 2, 3, 4]\n",
    "y = [1, 0.5, 19, 6]\n",
    "\n",
    "\n",
    "plt.scatter(x, y)\n",
    "\n",
    "plt.xticks(np.arange(0, 25, 2))\n",
    "\n",
    "plt.show()"
   ]
  },
  {
   "cell_type": "markdown",
   "id": "8a250ca2",
   "metadata": {},
   "source": [
    "#### 2.4 Brevemente explique el patron de comportamiento de los datos a lo largo del dia"
   ]
  },
  {
   "cell_type": "code",
   "execution_count": null,
   "id": "d588f999",
   "metadata": {},
   "outputs": [],
   "source": []
  },
  {
   "cell_type": "markdown",
   "id": "19e285d8",
   "metadata": {},
   "source": [
    "#### 2.5 En el grafico deberia ver un agujero entre los minutos 500 y 550 donde la demanda es aproximadamente 20-30. Explique el fenomeno"
   ]
  },
  {
   "cell_type": "code",
   "execution_count": null,
   "id": "ecd27fe7",
   "metadata": {},
   "outputs": [],
   "source": []
  },
  {
   "cell_type": "markdown",
   "id": "9b0271ce",
   "metadata": {},
   "source": [
    " #### 2.6 Entrene un modelo de regresion "
   ]
  },
  {
   "cell_type": "code",
   "execution_count": null,
   "id": "5d6b93f8",
   "metadata": {},
   "outputs": [],
   "source": []
  },
  {
   "cell_type": "markdown",
   "id": "524acb47",
   "metadata": {},
   "source": [
    "#### 2.7 Reporte y explique el valor de R2"
   ]
  },
  {
   "cell_type": "code",
   "execution_count": null,
   "id": "08beab4c",
   "metadata": {},
   "outputs": [],
   "source": []
  },
  {
   "cell_type": "markdown",
   "id": "569f950f",
   "metadata": {},
   "source": [
    "#### 2.8 Que significa un R2 = 0? y si fuese negativo?"
   ]
  },
  {
   "cell_type": "code",
   "execution_count": null,
   "id": "e0d9555c",
   "metadata": {},
   "outputs": [],
   "source": []
  }
 ],
 "metadata": {
  "kernelspec": {
   "display_name": "Python 3",
   "language": "python",
   "name": "python3"
  },
  "language_info": {
   "codemirror_mode": {
    "name": "ipython",
    "version": 3
   },
   "file_extension": ".py",
   "mimetype": "text/x-python",
   "name": "python",
   "nbconvert_exporter": "python",
   "pygments_lexer": "ipython3",
   "version": "3.8.8"
  }
 },
 "nbformat": 4,
 "nbformat_minor": 5
}
